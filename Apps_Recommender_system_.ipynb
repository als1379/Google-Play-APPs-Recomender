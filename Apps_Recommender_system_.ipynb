{
  "nbformat": 4,
  "nbformat_minor": 0,
  "metadata": {
    "colab": {
      "provenance": [],
      "toc_visible": true
    },
    "kernelspec": {
      "name": "python3",
      "display_name": "Python 3"
    },
    "language_info": {
      "name": "python"
    }
  },
  "cells": [
    {
      "cell_type": "code",
      "execution_count": null,
      "metadata": {
        "colab": {
          "base_uri": "https://localhost:8080/"
        },
        "id": "uXDk7X9W7lJ-",
        "outputId": "54eb3137-52d0-4458-e6a0-d3d67fe253da"
      },
      "outputs": [
        {
          "output_type": "stream",
          "name": "stdout",
          "text": [
            "Downloading google-play-store-apps.zip to /content\n",
            "\r  0% 0.00/1.94M [00:00<?, ?B/s]\n",
            "\r100% 1.94M/1.94M [00:00<00:00, 174MB/s]\n",
            "Archive:  /content/google-play-store-apps.zip\n",
            "  inflating: googleplaystore.csv     \n",
            "  inflating: googleplaystore_user_reviews.csv  \n",
            "  inflating: license.txt             \n"
          ]
        }
      ],
      "source": [
        "! mkdir /root/.kaggle\n",
        "! cp /content/kaggle.json /root/.kaggle\n",
        "! chmod 600 /root/.kaggle/kaggle.json\n",
        "! kaggle datasets download -d lava18/google-play-store-apps\n",
        "! unzip /content/google-play-store-apps.zip"
      ]
    },
    {
      "cell_type": "code",
      "source": [
        "! pip3 install pyspark"
      ],
      "metadata": {
        "colab": {
          "base_uri": "https://localhost:8080/"
        },
        "id": "To_oVU5e8fX1",
        "outputId": "7823ebb0-8655-49ca-945c-0948e2bf8e74"
      },
      "execution_count": null,
      "outputs": [
        {
          "output_type": "stream",
          "name": "stdout",
          "text": [
            "Looking in indexes: https://pypi.org/simple, https://us-python.pkg.dev/colab-wheels/public/simple/\n",
            "Collecting pyspark\n",
            "  Downloading pyspark-3.3.0.tar.gz (281.3 MB)\n",
            "\u001b[K     |████████████████████████████████| 281.3 MB 41 kB/s \n",
            "\u001b[?25hCollecting py4j==0.10.9.5\n",
            "  Downloading py4j-0.10.9.5-py2.py3-none-any.whl (199 kB)\n",
            "\u001b[K     |████████████████████████████████| 199 kB 66.6 MB/s \n",
            "\u001b[?25hBuilding wheels for collected packages: pyspark\n",
            "  Building wheel for pyspark (setup.py) ... \u001b[?25l\u001b[?25hdone\n",
            "  Created wheel for pyspark: filename=pyspark-3.3.0-py2.py3-none-any.whl size=281764026 sha256=c44e35e86e846b51b6e0bd1f3b12ca79d85e378b304a4e79cb85eb552cf81881\n",
            "  Stored in directory: /root/.cache/pip/wheels/7a/8e/1b/f73a52650d2e5f337708d9f6a1750d451a7349a867f928b885\n",
            "Successfully built pyspark\n",
            "Installing collected packages: py4j, pyspark\n",
            "Successfully installed py4j-0.10.9.5 pyspark-3.3.0\n"
          ]
        }
      ]
    },
    {
      "cell_type": "code",
      "source": [
        "from pyspark.sql.session import SparkSession\n",
        "\n",
        "spark = SparkSession.builder.getOrCreate()"
      ],
      "metadata": {
        "id": "g-a5z7-Y8hVo"
      },
      "execution_count": null,
      "outputs": []
    },
    {
      "cell_type": "code",
      "source": [
        "apps = spark.read.csv('/content/googleplaystore.csv', inferSchema=True, header=True)\n",
        "print(apps.count())\n",
        "apps.show()"
      ],
      "metadata": {
        "colab": {
          "base_uri": "https://localhost:8080/"
        },
        "id": "iG-kUbiK8mnV",
        "outputId": "28ee8c9f-6813-4a09-f432-2a2ae067756a"
      },
      "execution_count": null,
      "outputs": [
        {
          "output_type": "stream",
          "name": "stdout",
          "text": [
            "10841\n",
            "+--------------------+--------------+------+-------+----+-----------+----+-----+--------------+--------------------+------------------+------------------+------------+\n",
            "|                 App|      Category|Rating|Reviews|Size|   Installs|Type|Price|Content Rating|              Genres|      Last Updated|       Current Ver| Android Ver|\n",
            "+--------------------+--------------+------+-------+----+-----------+----+-----+--------------+--------------------+------------------+------------------+------------+\n",
            "|Photo Editor & Ca...|ART_AND_DESIGN|   4.1|    159| 19M|    10,000+|Free|    0|      Everyone|        Art & Design|   January 7, 2018|             1.0.0|4.0.3 and up|\n",
            "| Coloring book moana|ART_AND_DESIGN|   3.9|    967| 14M|   500,000+|Free|    0|      Everyone|Art & Design;Pret...|  January 15, 2018|             2.0.0|4.0.3 and up|\n",
            "|U Launcher Lite –...|ART_AND_DESIGN|   4.7|  87510|8.7M| 5,000,000+|Free|    0|      Everyone|        Art & Design|    August 1, 2018|             1.2.4|4.0.3 and up|\n",
            "|Sketch - Draw & P...|ART_AND_DESIGN|   4.5| 215644| 25M|50,000,000+|Free|    0|          Teen|        Art & Design|      June 8, 2018|Varies with device|  4.2 and up|\n",
            "|Pixel Draw - Numb...|ART_AND_DESIGN|   4.3|    967|2.8M|   100,000+|Free|    0|      Everyone|Art & Design;Crea...|     June 20, 2018|               1.1|  4.4 and up|\n",
            "|Paper flowers ins...|ART_AND_DESIGN|   4.4|    167|5.6M|    50,000+|Free|    0|      Everyone|        Art & Design|    March 26, 2017|               1.0|  2.3 and up|\n",
            "|Smoke Effect Phot...|ART_AND_DESIGN|   3.8|    178| 19M|    50,000+|Free|    0|      Everyone|        Art & Design|    April 26, 2018|               1.1|4.0.3 and up|\n",
            "|    Infinite Painter|ART_AND_DESIGN|   4.1|  36815| 29M| 1,000,000+|Free|    0|      Everyone|        Art & Design|     June 14, 2018|          6.1.61.1|  4.2 and up|\n",
            "|Garden Coloring Book|ART_AND_DESIGN|   4.4|  13791| 33M| 1,000,000+|Free|    0|      Everyone|        Art & Design|September 20, 2017|             2.9.2|  3.0 and up|\n",
            "|Kids Paint Free -...|ART_AND_DESIGN|   4.7|    121|3.1M|    10,000+|Free|    0|      Everyone|Art & Design;Crea...|      July 3, 2018|               2.8|4.0.3 and up|\n",
            "|Text on Photo - F...|ART_AND_DESIGN|   4.4|  13880| 28M| 1,000,000+|Free|    0|      Everyone|        Art & Design|  October 27, 2017|             1.0.4|  4.1 and up|\n",
            "|Name Art Photo Ed...|ART_AND_DESIGN|   4.4|   8788| 12M| 1,000,000+|Free|    0|      Everyone|        Art & Design|     July 31, 2018|            1.0.15|  4.0 and up|\n",
            "|Tattoo Name On My...|ART_AND_DESIGN|   4.2|  44829| 20M|10,000,000+|Free|    0|          Teen|        Art & Design|     April 2, 2018|               3.8|  4.1 and up|\n",
            "|Mandala Coloring ...|ART_AND_DESIGN|   4.6|   4326| 21M|   100,000+|Free|    0|      Everyone|        Art & Design|     June 26, 2018|             1.0.4|  4.4 and up|\n",
            "|3D Color Pixel by...|ART_AND_DESIGN|   4.4|   1518| 37M|   100,000+|Free|    0|      Everyone|        Art & Design|    August 3, 2018|             1.2.3|  2.3 and up|\n",
            "|Learn To Draw Kaw...|ART_AND_DESIGN|   3.2|     55|2.7M|     5,000+|Free|    0|      Everyone|        Art & Design|      June 6, 2018|               NaN|  4.2 and up|\n",
            "|Photo Designer - ...|ART_AND_DESIGN|   4.7|   3632|5.5M|   500,000+|Free|    0|      Everyone|        Art & Design|     July 31, 2018|               3.1|  4.1 and up|\n",
            "|350 Diy Room Deco...|ART_AND_DESIGN|   4.5|     27| 17M|    10,000+|Free|    0|      Everyone|        Art & Design|  November 7, 2017|               1.0|  2.3 and up|\n",
            "|FlipaClip - Carto...|ART_AND_DESIGN|   4.3| 194216| 39M| 5,000,000+|Free|    0|      Everyone|        Art & Design|    August 3, 2018|             2.2.5|4.0.3 and up|\n",
            "|        ibis Paint X|ART_AND_DESIGN|   4.6| 224399| 31M|10,000,000+|Free|    0|      Everyone|        Art & Design|     July 30, 2018|             5.5.4|  4.1 and up|\n",
            "+--------------------+--------------+------+-------+----+-----------+----+-----+--------------+--------------------+------------------+------------------+------------+\n",
            "only showing top 20 rows\n",
            "\n"
          ]
        }
      ]
    },
    {
      "cell_type": "code",
      "source": [
        "reviews = spark.read.csv('/content/googleplaystore_user_reviews.csv', inferSchema=True, header=True)\n",
        "print(reviews.count())\n",
        "reviews.show()"
      ],
      "metadata": {
        "colab": {
          "base_uri": "https://localhost:8080/"
        },
        "id": "dDaE5ESw9H0P",
        "outputId": "9911930b-d802-4912-e4c4-eb30c81bf83f"
      },
      "execution_count": null,
      "outputs": [
        {
          "output_type": "stream",
          "name": "stdout",
          "text": [
            "64295\n",
            "+--------------------+--------------------+--------------------+-------------------+----------------------+\n",
            "|                 App|   Translated_Review|           Sentiment| Sentiment_Polarity|Sentiment_Subjectivity|\n",
            "+--------------------+--------------------+--------------------+-------------------+----------------------+\n",
            "|10 Best Foods for...|\"I like eat delic...| also \"\"Best Befo...|           Positive|                   1.0|\n",
            "|10 Best Foods for...|This help eating ...|            Positive|               0.25|   0.28846153846153844|\n",
            "|10 Best Foods for...|                 nan|                 nan|                nan|                   nan|\n",
            "|10 Best Foods for...|Works great espec...|            Positive|                0.4|                 0.875|\n",
            "|10 Best Foods for...|        Best idea us|            Positive|                1.0|                   0.3|\n",
            "|10 Best Foods for...|            Best way|            Positive|                1.0|                   0.3|\n",
            "|10 Best Foods for...|             Amazing|            Positive| 0.6000000000000001|                   0.9|\n",
            "|10 Best Foods for...|                 nan|                 nan|                nan|                   nan|\n",
            "|10 Best Foods for...|Looking forward app,|             Neutral|                0.0|                   0.0|\n",
            "|10 Best Foods for...|It helpful site !...|             Neutral|                0.0|                   0.0|\n",
            "|10 Best Foods for...|           good you.|            Positive|                0.7|    0.6000000000000001|\n",
            "|10 Best Foods for...|Useful informatio...|            Positive|                0.2|                   0.1|\n",
            "|10 Best Foods for...|Thank you! Great ...|            Positive|               0.75|                 0.875|\n",
            "|10 Best Foods for...|Greatest ever Com...|            Positive|          0.9921875|    0.8666666666666667|\n",
            "|10 Best Foods for...|Good health.........|            Positive| 0.5499999999999999|    0.5111111111111112|\n",
            "|10 Best Foods for...|                 nan|                 nan|                nan|                   nan|\n",
            "|10 Best Foods for...|Health It's impor...|            Positive|               0.45|                   1.0|\n",
            "|10 Best Foods for...|Mrs sunita bhati ...|            Positive|                0.6|    0.6666666666666666|\n",
            "|10 Best Foods for...|Very Useful in di...|            Positive|0.29500000000000004|                   0.1|\n",
            "|10 Best Foods for...|  One greatest apps.|            Positive|                1.0|                   1.0|\n",
            "+--------------------+--------------------+--------------------+-------------------+----------------------+\n",
            "only showing top 20 rows\n",
            "\n"
          ]
        }
      ]
    },
    {
      "cell_type": "code",
      "source": [
        "apps.createOrReplaceTempView('apps') \n",
        "\n",
        "query = \"SELECT sum(Reviews) FROM apps\"\n",
        "\n",
        "reviews_count = spark.sql(query)\n",
        "\n",
        "reviews_count.show()"
      ],
      "metadata": {
        "colab": {
          "base_uri": "https://localhost:8080/"
        },
        "id": "u2Pbm2sI9fOD",
        "outputId": "f447a60f-b780-4eb0-ffcc-e1818300781e"
      },
      "execution_count": null,
      "outputs": [
        {
          "output_type": "stream",
          "name": "stdout",
          "text": [
            "+-------------+\n",
            "| sum(Reviews)|\n",
            "+-------------+\n",
            "|4.814512636E9|\n",
            "+-------------+\n",
            "\n"
          ]
        }
      ]
    },
    {
      "cell_type": "code",
      "source": [
        "reviews.createOrReplaceTempView('reviews') \n",
        "apps_group_count = spark.sql(\"SELECT count(*) as C, App FROM reviews GROUP BY App\")\n",
        "apps_group_count.show()\n",
        "apps_count = spark.sql(\"SELECT count(C) FROM (SELECT count(*) as C, App FROM reviews GROUP BY App)\")\n",
        "apps_count.show()"
      ],
      "metadata": {
        "colab": {
          "base_uri": "https://localhost:8080/"
        },
        "id": "ZtNysJa5Bspa",
        "outputId": "89ab5f7d-ec24-452f-d9f9-b90f16974e7c"
      },
      "execution_count": null,
      "outputs": [
        {
          "output_type": "stream",
          "name": "stdout",
          "text": [
            "+---+--------------------+\n",
            "|  C|                 App|\n",
            "+---+--------------------+\n",
            "| 40|BaBe+ - Berita In...|\n",
            "|100|    Basketball Stars|\n",
            "| 40|Davis's Drug Guid...|\n",
            "| 40|Find&Save - Local...|\n",
            "| 40|Bloomberg Profess...|\n",
            "| 40|   Blue CareOnDemand|\n",
            "| 40|  Floor Plan Creator|\n",
            "| 40|Bagan - Myanmar K...|\n",
            "| 40|     Candy Pop Story|\n",
            "| 40|  Classic Calculator|\n",
            "| 40|Cricbuzz - Live C...|\n",
            "| 40|AOL - News, Mail ...|\n",
            "| 40|Collage&Add Stick...|\n",
            "| 40|      Epocrates Plus|\n",
            "| 40|       File Explorer|\n",
            "|100|            Arrow.io|\n",
            "| 40|CALCU™ Stylish Ca...|\n",
            "| 40|FilterGrid - Cam&...|\n",
            "| 40|BELONG Beating Ca...|\n",
            "|260|      Bubble Shooter|\n",
            "+---+--------------------+\n",
            "only showing top 20 rows\n",
            "\n",
            "+--------+\n",
            "|count(C)|\n",
            "+--------+\n",
            "|    1074|\n",
            "+--------+\n",
            "\n"
          ]
        }
      ]
    },
    {
      "cell_type": "code",
      "source": [
        "apps.show()"
      ],
      "metadata": {
        "colab": {
          "base_uri": "https://localhost:8080/"
        },
        "id": "PqFaOlvnzzji",
        "outputId": "d1b75d8c-61a3-4c94-c40e-5d08a16d5b28"
      },
      "execution_count": null,
      "outputs": [
        {
          "output_type": "stream",
          "name": "stdout",
          "text": [
            "+--------------------+--------------+------+-------+----+-----------+----+-----+--------------+--------------------+------------------+------------------+------------+\n",
            "|                 App|      Category|Rating|Reviews|Size|   Installs|Type|Price|Content Rating|              Genres|      Last Updated|       Current Ver| Android Ver|\n",
            "+--------------------+--------------+------+-------+----+-----------+----+-----+--------------+--------------------+------------------+------------------+------------+\n",
            "|Photo Editor & Ca...|ART_AND_DESIGN|   4.1|    159| 19M|    10,000+|Free|    0|      Everyone|        Art & Design|   January 7, 2018|             1.0.0|4.0.3 and up|\n",
            "| Coloring book moana|ART_AND_DESIGN|   3.9|    967| 14M|   500,000+|Free|    0|      Everyone|Art & Design;Pret...|  January 15, 2018|             2.0.0|4.0.3 and up|\n",
            "|U Launcher Lite –...|ART_AND_DESIGN|   4.7|  87510|8.7M| 5,000,000+|Free|    0|      Everyone|        Art & Design|    August 1, 2018|             1.2.4|4.0.3 and up|\n",
            "|Sketch - Draw & P...|ART_AND_DESIGN|   4.5| 215644| 25M|50,000,000+|Free|    0|          Teen|        Art & Design|      June 8, 2018|Varies with device|  4.2 and up|\n",
            "|Pixel Draw - Numb...|ART_AND_DESIGN|   4.3|    967|2.8M|   100,000+|Free|    0|      Everyone|Art & Design;Crea...|     June 20, 2018|               1.1|  4.4 and up|\n",
            "|Paper flowers ins...|ART_AND_DESIGN|   4.4|    167|5.6M|    50,000+|Free|    0|      Everyone|        Art & Design|    March 26, 2017|               1.0|  2.3 and up|\n",
            "|Smoke Effect Phot...|ART_AND_DESIGN|   3.8|    178| 19M|    50,000+|Free|    0|      Everyone|        Art & Design|    April 26, 2018|               1.1|4.0.3 and up|\n",
            "|    Infinite Painter|ART_AND_DESIGN|   4.1|  36815| 29M| 1,000,000+|Free|    0|      Everyone|        Art & Design|     June 14, 2018|          6.1.61.1|  4.2 and up|\n",
            "|Garden Coloring Book|ART_AND_DESIGN|   4.4|  13791| 33M| 1,000,000+|Free|    0|      Everyone|        Art & Design|September 20, 2017|             2.9.2|  3.0 and up|\n",
            "|Kids Paint Free -...|ART_AND_DESIGN|   4.7|    121|3.1M|    10,000+|Free|    0|      Everyone|Art & Design;Crea...|      July 3, 2018|               2.8|4.0.3 and up|\n",
            "|Text on Photo - F...|ART_AND_DESIGN|   4.4|  13880| 28M| 1,000,000+|Free|    0|      Everyone|        Art & Design|  October 27, 2017|             1.0.4|  4.1 and up|\n",
            "|Name Art Photo Ed...|ART_AND_DESIGN|   4.4|   8788| 12M| 1,000,000+|Free|    0|      Everyone|        Art & Design|     July 31, 2018|            1.0.15|  4.0 and up|\n",
            "|Tattoo Name On My...|ART_AND_DESIGN|   4.2|  44829| 20M|10,000,000+|Free|    0|          Teen|        Art & Design|     April 2, 2018|               3.8|  4.1 and up|\n",
            "|Mandala Coloring ...|ART_AND_DESIGN|   4.6|   4326| 21M|   100,000+|Free|    0|      Everyone|        Art & Design|     June 26, 2018|             1.0.4|  4.4 and up|\n",
            "|3D Color Pixel by...|ART_AND_DESIGN|   4.4|   1518| 37M|   100,000+|Free|    0|      Everyone|        Art & Design|    August 3, 2018|             1.2.3|  2.3 and up|\n",
            "|Learn To Draw Kaw...|ART_AND_DESIGN|   3.2|     55|2.7M|     5,000+|Free|    0|      Everyone|        Art & Design|      June 6, 2018|               NaN|  4.2 and up|\n",
            "|Photo Designer - ...|ART_AND_DESIGN|   4.7|   3632|5.5M|   500,000+|Free|    0|      Everyone|        Art & Design|     July 31, 2018|               3.1|  4.1 and up|\n",
            "|350 Diy Room Deco...|ART_AND_DESIGN|   4.5|     27| 17M|    10,000+|Free|    0|      Everyone|        Art & Design|  November 7, 2017|               1.0|  2.3 and up|\n",
            "|FlipaClip - Carto...|ART_AND_DESIGN|   4.3| 194216| 39M| 5,000,000+|Free|    0|      Everyone|        Art & Design|    August 3, 2018|             2.2.5|4.0.3 and up|\n",
            "|        ibis Paint X|ART_AND_DESIGN|   4.6| 224399| 31M|10,000,000+|Free|    0|      Everyone|        Art & Design|     July 30, 2018|             5.5.4|  4.1 and up|\n",
            "+--------------------+--------------+------+-------+----+-----------+----+-----+--------------+--------------------+------------------+------------------+------------+\n",
            "only showing top 20 rows\n",
            "\n"
          ]
        }
      ]
    },
    {
      "cell_type": "code",
      "source": [
        "test = spark.sql(\"SELECT * FROM apps\").sample(0.001)\n",
        "test.show()\n",
        "test.count()"
      ],
      "metadata": {
        "colab": {
          "base_uri": "https://localhost:8080/"
        },
        "id": "hlh7fY97AxmK",
        "outputId": "2b49b54d-b36d-454b-c0b1-553ad91f987e"
      },
      "execution_count": null,
      "outputs": [
        {
          "output_type": "stream",
          "name": "stdout",
          "text": [
            "+--------------------+------------------+------+-------+------------------+----------+----+-----+--------------+----------------+----------------+-----------+------------+\n",
            "|                 App|          Category|Rating|Reviews|              Size|  Installs|Type|Price|Content Rating|          Genres|    Last Updated|Current Ver| Android Ver|\n",
            "+--------------------+------------------+------+-------+------------------+----------+----+-----+--------------+----------------+----------------+-----------+------------+\n",
            "|Titanic App - Fem...|            DATING|   4.5|    120|               10M|      500+|Free|    0|    Mature 17+|          Dating|  August 4, 2018|   1.5-beta|  5.0 and up|\n",
            "|Abs Training-Burn...|HEALTH_AND_FITNESS|   4.7|   2071|              6.9M|  100,000+|Free|    0|      Everyone|Health & Fitness|   July 24, 2018|     1.0.12|  4.1 and up|\n",
            "|           HD Camera|       PHOTOGRAPHY|   4.3|  49680|              8.7M|5,000,000+|Free|    0|      Everyone|     Photography|   July 11, 2018|      1.8.5|  4.2 and up|\n",
            "|Flight & Hotel Bo...|  TRAVEL_AND_LOCAL|   4.4|  45562|Varies with device|5,000,000+|Free|    0|      Everyone|  Travel & Local|   July 30, 2018|    4.0.9.1|  4.1 and up|\n",
            "|   Speech Therapy: F|            FAMILY|   1.0|      1|               16M|       10+|Paid|$2.99|      Everyone|       Education| October 7, 2016|        1.0|2.3.3 and up|\n",
            "|Cp Calculator for...|            FAMILY|   4.8|    124|              2.5M|      500+|Free|    0|      Everyone|   Entertainment| August 23, 2016|        1.2|  4.2 and up|\n",
            "|Radiology CT Anatomy|           MEDICAL|   4.2|    345|               14M|   50,000+|Free|    0|      Everyone|         Medical|January 20, 2018|        1.6|  4.0 and up|\n",
            "|D.C. Driving/Walk...|  TRAVEL_AND_LOCAL|   NaN|      0|               32M|       50+|Paid|$4.99|      Everyone|  Travel & Local|   July 27, 2018|      3.8.0|  4.4 and up|\n",
            "|        Wi-Fi Master|             TOOLS|   4.5|   3673|              5.8M|  500,000+|Free|    0|      Everyone|           Tools|   July 24, 2018|      1.2.1|  4.1 and up|\n",
            "|HD Themes Toyota ...|   PERSONALIZATION|   NaN|      2|               13M|      100+|Free|    0|          Teen| Personalization| October 3, 2016|        1.0|2.3.3 and up|\n",
            "+--------------------+------------------+------+-------+------------------+----------+----+-----+--------------+----------------+----------------+-----------+------------+\n",
            "\n"
          ]
        },
        {
          "output_type": "execute_result",
          "data": {
            "text/plain": [
              "10"
            ]
          },
          "metadata": {},
          "execution_count": 159
        }
      ]
    },
    {
      "cell_type": "markdown",
      "source": [
        "# Data Preprocess"
      ],
      "metadata": {
        "id": "EWQkKfkmkH8v"
      }
    },
    {
      "cell_type": "markdown",
      "source": [
        "## APP"
      ],
      "metadata": {
        "id": "Ws6ts1rh5YZX"
      }
    },
    {
      "cell_type": "code",
      "source": [
        "spark.sql(\"SELECT App, count(*) AS C FROM apps GROUP BY App ORDER BY C DESC\").show()"
      ],
      "metadata": {
        "colab": {
          "base_uri": "https://localhost:8080/"
        },
        "id": "2klOV--95aio",
        "outputId": "cf578a33-49ca-4599-f1af-7069cb911b6c"
      },
      "execution_count": null,
      "outputs": [
        {
          "output_type": "stream",
          "name": "stdout",
          "text": [
            "+--------------------+---+\n",
            "|                 App|  C|\n",
            "+--------------------+---+\n",
            "|              ROBLOX|  9|\n",
            "|CBS Sports App - ...|  8|\n",
            "|         8 Ball Pool|  7|\n",
            "|Duolingo: Learn L...|  7|\n",
            "|                ESPN|  7|\n",
            "|    Candy Crush Saga|  7|\n",
            "|          Helix Jump|  6|\n",
            "|          Bowmasters|  6|\n",
            "|        Temple Run 2|  6|\n",
            "|                Nick|  6|\n",
            "|      Bubble Shooter|  6|\n",
            "|      Subway Surfers|  6|\n",
            "|     Zombie Catchers|  6|\n",
            "|          slither.io|  6|\n",
            "|Bleacher Report: ...|  6|\n",
            "|Sniper 3D Gun Sho...|  6|\n",
            "|     Viber Messenger|  5|\n",
            "|          Skyscanner|  5|\n",
            "|    Farm Heroes Saga|  5|\n",
            "| Angry Birds Classic|  5|\n",
            "+--------------------+---+\n",
            "only showing top 20 rows\n",
            "\n"
          ]
        }
      ]
    },
    {
      "cell_type": "code",
      "source": [
        "spark.sql(\"SELECT * FROM apps WHERE App='Nick'\").show()"
      ],
      "metadata": {
        "colab": {
          "base_uri": "https://localhost:8080/"
        },
        "id": "uFEOcfFg60S_",
        "outputId": "8ef2512c-41c8-4064-90ff-b02c2d25ebf6"
      },
      "execution_count": null,
      "outputs": [
        {
          "output_type": "stream",
          "name": "stdout",
          "text": [
            "+----+-------------+------+-------+----+-----------+----+-----+--------------+--------------------+----------------+-----------+-----------+\n",
            "| App|     Category|Rating|Reviews|Size|   Installs|Type|Price|Content Rating|              Genres|    Last Updated|Current Ver|Android Ver|\n",
            "+----+-------------+------+-------+----+-----------+----+-----+--------------+--------------------+----------------+-----------+-----------+\n",
            "|Nick|ENTERTAINMENT|   4.2| 123279| 25M|10,000,000+|Free|    0|  Everyone 10+|Entertainment;Mus...|January 24, 2018|      2.0.8| 4.4 and up|\n",
            "|Nick|ENTERTAINMENT|   4.2| 123279| 25M|10,000,000+|Free|    0|  Everyone 10+|Entertainment;Mus...|January 24, 2018|      2.0.8| 4.4 and up|\n",
            "|Nick|ENTERTAINMENT|   4.2| 123279| 25M|10,000,000+|Free|    0|  Everyone 10+|Entertainment;Mus...|January 24, 2018|      2.0.8| 4.4 and up|\n",
            "|Nick|ENTERTAINMENT|   4.2| 123279| 25M|10,000,000+|Free|    0|  Everyone 10+|Entertainment;Mus...|January 24, 2018|      2.0.8| 4.4 and up|\n",
            "|Nick|       FAMILY|   4.2| 123322| 25M|10,000,000+|Free|    0|  Everyone 10+|Entertainment;Mus...|January 24, 2018|      2.0.8| 4.4 and up|\n",
            "|Nick|       FAMILY|   4.2| 123309| 25M|10,000,000+|Free|    0|  Everyone 10+|Entertainment;Mus...|January 24, 2018|      2.0.8| 4.4 and up|\n",
            "+----+-------------+------+-------+----+-----------+----+-----+--------------+--------------------+----------------+-----------+-----------+\n",
            "\n"
          ]
        }
      ]
    },
    {
      "cell_type": "markdown",
      "source": [
        "## Current Version and Android Ver and Last Updated"
      ],
      "metadata": {
        "id": "xr1tC2QGALPt"
      }
    },
    {
      "cell_type": "code",
      "source": [
        "apps = apps.drop('Current Ver', 'Android Ver', 'Last Updated')\n",
        "apps.show()"
      ],
      "metadata": {
        "colab": {
          "base_uri": "https://localhost:8080/"
        },
        "id": "5doKdGyTAO4G",
        "outputId": "cb67dfd0-1b82-4e39-c98b-da97462e9a80"
      },
      "execution_count": null,
      "outputs": [
        {
          "output_type": "stream",
          "name": "stdout",
          "text": [
            "+--------------------+--------------+------+-------+----+-----------+----+-----+--------------+--------------------+\n",
            "|                 App|      Category|Rating|Reviews|Size|   Installs|Type|Price|Content Rating|              Genres|\n",
            "+--------------------+--------------+------+-------+----+-----------+----+-----+--------------+--------------------+\n",
            "|Photo Editor & Ca...|ART_AND_DESIGN|   4.1|    159| 19M|    10,000+|Free|    0|      Everyone|        Art & Design|\n",
            "| Coloring book moana|ART_AND_DESIGN|   3.9|    967| 14M|   500,000+|Free|    0|      Everyone|Art & Design;Pret...|\n",
            "|U Launcher Lite –...|ART_AND_DESIGN|   4.7|  87510|8.7M| 5,000,000+|Free|    0|      Everyone|        Art & Design|\n",
            "|Sketch - Draw & P...|ART_AND_DESIGN|   4.5| 215644| 25M|50,000,000+|Free|    0|          Teen|        Art & Design|\n",
            "|Pixel Draw - Numb...|ART_AND_DESIGN|   4.3|    967|2.8M|   100,000+|Free|    0|      Everyone|Art & Design;Crea...|\n",
            "|Paper flowers ins...|ART_AND_DESIGN|   4.4|    167|5.6M|    50,000+|Free|    0|      Everyone|        Art & Design|\n",
            "|Smoke Effect Phot...|ART_AND_DESIGN|   3.8|    178| 19M|    50,000+|Free|    0|      Everyone|        Art & Design|\n",
            "|    Infinite Painter|ART_AND_DESIGN|   4.1|  36815| 29M| 1,000,000+|Free|    0|      Everyone|        Art & Design|\n",
            "|Garden Coloring Book|ART_AND_DESIGN|   4.4|  13791| 33M| 1,000,000+|Free|    0|      Everyone|        Art & Design|\n",
            "|Kids Paint Free -...|ART_AND_DESIGN|   4.7|    121|3.1M|    10,000+|Free|    0|      Everyone|Art & Design;Crea...|\n",
            "|Text on Photo - F...|ART_AND_DESIGN|   4.4|  13880| 28M| 1,000,000+|Free|    0|      Everyone|        Art & Design|\n",
            "|Name Art Photo Ed...|ART_AND_DESIGN|   4.4|   8788| 12M| 1,000,000+|Free|    0|      Everyone|        Art & Design|\n",
            "|Tattoo Name On My...|ART_AND_DESIGN|   4.2|  44829| 20M|10,000,000+|Free|    0|          Teen|        Art & Design|\n",
            "|Mandala Coloring ...|ART_AND_DESIGN|   4.6|   4326| 21M|   100,000+|Free|    0|      Everyone|        Art & Design|\n",
            "|3D Color Pixel by...|ART_AND_DESIGN|   4.4|   1518| 37M|   100,000+|Free|    0|      Everyone|        Art & Design|\n",
            "|Learn To Draw Kaw...|ART_AND_DESIGN|   3.2|     55|2.7M|     5,000+|Free|    0|      Everyone|        Art & Design|\n",
            "|Photo Designer - ...|ART_AND_DESIGN|   4.7|   3632|5.5M|   500,000+|Free|    0|      Everyone|        Art & Design|\n",
            "|350 Diy Room Deco...|ART_AND_DESIGN|   4.5|     27| 17M|    10,000+|Free|    0|      Everyone|        Art & Design|\n",
            "|FlipaClip - Carto...|ART_AND_DESIGN|   4.3| 194216| 39M| 5,000,000+|Free|    0|      Everyone|        Art & Design|\n",
            "|        ibis Paint X|ART_AND_DESIGN|   4.6| 224399| 31M|10,000,000+|Free|    0|      Everyone|        Art & Design|\n",
            "+--------------------+--------------+------+-------+----+-----------+----+-----+--------------+--------------------+\n",
            "only showing top 20 rows\n",
            "\n"
          ]
        }
      ]
    },
    {
      "cell_type": "markdown",
      "source": [
        "## Category and Genres"
      ],
      "metadata": {
        "id": "5NxwHvMS7nvW"
      }
    },
    {
      "cell_type": "code",
      "source": [
        "print(spark.sql(\"SELECT Category FROM apps GROUP BY Category\").count())\n",
        "print(spark.sql(\"SELECT Genres FROM apps GROUP BY Genres\").count())\n",
        "\n",
        "categorical_group = spark.sql(\"SELECT Category, count(*) AS C FROM apps GROUP BY Category\").toPandas()\n",
        "categorical_group"
      ],
      "metadata": {
        "colab": {
          "base_uri": "https://localhost:8080/"
        },
        "id": "TKe4TGU740GO",
        "outputId": "4d0b7243-4c10-4bc9-8945-3d59c8a43954"
      },
      "execution_count": null,
      "outputs": [
        {
          "output_type": "stream",
          "name": "stdout",
          "text": [
            "36\n",
            "121\n"
          ]
        },
        {
          "output_type": "execute_result",
          "data": {
            "text/plain": [
              "               Category     C\n",
              "0                EVENTS    64\n",
              "1                COMICS    60\n",
              "2                SPORTS   384\n",
              "3               WEATHER    82\n",
              "4         VIDEO_PLAYERS   175\n",
              "5     AUTO_AND_VEHICLES    85\n",
              "6             PARENTING    60\n",
              "7         ENTERTAINMENT   149\n",
              "8       PERSONALIZATION   392\n",
              "9    HEALTH_AND_FITNESS   340\n",
              "10     TRAVEL_AND_LOCAL   258\n",
              "11  BOOKS_AND_REFERENCE   231\n",
              "12       FOOD_AND_DRINK   127\n",
              "13          PHOTOGRAPHY   335\n",
              "14             BUSINESS   460\n",
              "15               FAMILY  1972\n",
              "16             SHOPPING   260\n",
              "17       HOUSE_AND_HOME    88\n",
              "18                 GAME  1144\n",
              "19                 Face     1\n",
              "20                  1.9     1\n",
              "21            EDUCATION   156\n",
              "22         PRODUCTIVITY   424\n",
              "23                TOOLS   843\n",
              "24            LIFESTYLE   382\n",
              "25   NEWS_AND_MAGAZINES   283\n",
              "26              MEDICAL   463\n",
              "27        COMMUNICATION   387\n",
              "28  MAPS_AND_NAVIGATION   136\n",
              "29               DATING   234\n",
              "30         traffic jams     1\n",
              "31   LIBRARIES_AND_DEMO    85\n",
              "32               BEAUTY    53\n",
              "33               SOCIAL   295\n",
              "34              FINANCE   366\n",
              "35       ART_AND_DESIGN    65"
            ],
            "text/html": [
              "\n",
              "  <div id=\"df-49a63bb4-7cac-4f1b-a6ab-9798ba168111\">\n",
              "    <div class=\"colab-df-container\">\n",
              "      <div>\n",
              "<style scoped>\n",
              "    .dataframe tbody tr th:only-of-type {\n",
              "        vertical-align: middle;\n",
              "    }\n",
              "\n",
              "    .dataframe tbody tr th {\n",
              "        vertical-align: top;\n",
              "    }\n",
              "\n",
              "    .dataframe thead th {\n",
              "        text-align: right;\n",
              "    }\n",
              "</style>\n",
              "<table border=\"1\" class=\"dataframe\">\n",
              "  <thead>\n",
              "    <tr style=\"text-align: right;\">\n",
              "      <th></th>\n",
              "      <th>Category</th>\n",
              "      <th>C</th>\n",
              "    </tr>\n",
              "  </thead>\n",
              "  <tbody>\n",
              "    <tr>\n",
              "      <th>0</th>\n",
              "      <td>EVENTS</td>\n",
              "      <td>64</td>\n",
              "    </tr>\n",
              "    <tr>\n",
              "      <th>1</th>\n",
              "      <td>COMICS</td>\n",
              "      <td>60</td>\n",
              "    </tr>\n",
              "    <tr>\n",
              "      <th>2</th>\n",
              "      <td>SPORTS</td>\n",
              "      <td>384</td>\n",
              "    </tr>\n",
              "    <tr>\n",
              "      <th>3</th>\n",
              "      <td>WEATHER</td>\n",
              "      <td>82</td>\n",
              "    </tr>\n",
              "    <tr>\n",
              "      <th>4</th>\n",
              "      <td>VIDEO_PLAYERS</td>\n",
              "      <td>175</td>\n",
              "    </tr>\n",
              "    <tr>\n",
              "      <th>5</th>\n",
              "      <td>AUTO_AND_VEHICLES</td>\n",
              "      <td>85</td>\n",
              "    </tr>\n",
              "    <tr>\n",
              "      <th>6</th>\n",
              "      <td>PARENTING</td>\n",
              "      <td>60</td>\n",
              "    </tr>\n",
              "    <tr>\n",
              "      <th>7</th>\n",
              "      <td>ENTERTAINMENT</td>\n",
              "      <td>149</td>\n",
              "    </tr>\n",
              "    <tr>\n",
              "      <th>8</th>\n",
              "      <td>PERSONALIZATION</td>\n",
              "      <td>392</td>\n",
              "    </tr>\n",
              "    <tr>\n",
              "      <th>9</th>\n",
              "      <td>HEALTH_AND_FITNESS</td>\n",
              "      <td>340</td>\n",
              "    </tr>\n",
              "    <tr>\n",
              "      <th>10</th>\n",
              "      <td>TRAVEL_AND_LOCAL</td>\n",
              "      <td>258</td>\n",
              "    </tr>\n",
              "    <tr>\n",
              "      <th>11</th>\n",
              "      <td>BOOKS_AND_REFERENCE</td>\n",
              "      <td>231</td>\n",
              "    </tr>\n",
              "    <tr>\n",
              "      <th>12</th>\n",
              "      <td>FOOD_AND_DRINK</td>\n",
              "      <td>127</td>\n",
              "    </tr>\n",
              "    <tr>\n",
              "      <th>13</th>\n",
              "      <td>PHOTOGRAPHY</td>\n",
              "      <td>335</td>\n",
              "    </tr>\n",
              "    <tr>\n",
              "      <th>14</th>\n",
              "      <td>BUSINESS</td>\n",
              "      <td>460</td>\n",
              "    </tr>\n",
              "    <tr>\n",
              "      <th>15</th>\n",
              "      <td>FAMILY</td>\n",
              "      <td>1972</td>\n",
              "    </tr>\n",
              "    <tr>\n",
              "      <th>16</th>\n",
              "      <td>SHOPPING</td>\n",
              "      <td>260</td>\n",
              "    </tr>\n",
              "    <tr>\n",
              "      <th>17</th>\n",
              "      <td>HOUSE_AND_HOME</td>\n",
              "      <td>88</td>\n",
              "    </tr>\n",
              "    <tr>\n",
              "      <th>18</th>\n",
              "      <td>GAME</td>\n",
              "      <td>1144</td>\n",
              "    </tr>\n",
              "    <tr>\n",
              "      <th>19</th>\n",
              "      <td>Face</td>\n",
              "      <td>1</td>\n",
              "    </tr>\n",
              "    <tr>\n",
              "      <th>20</th>\n",
              "      <td>1.9</td>\n",
              "      <td>1</td>\n",
              "    </tr>\n",
              "    <tr>\n",
              "      <th>21</th>\n",
              "      <td>EDUCATION</td>\n",
              "      <td>156</td>\n",
              "    </tr>\n",
              "    <tr>\n",
              "      <th>22</th>\n",
              "      <td>PRODUCTIVITY</td>\n",
              "      <td>424</td>\n",
              "    </tr>\n",
              "    <tr>\n",
              "      <th>23</th>\n",
              "      <td>TOOLS</td>\n",
              "      <td>843</td>\n",
              "    </tr>\n",
              "    <tr>\n",
              "      <th>24</th>\n",
              "      <td>LIFESTYLE</td>\n",
              "      <td>382</td>\n",
              "    </tr>\n",
              "    <tr>\n",
              "      <th>25</th>\n",
              "      <td>NEWS_AND_MAGAZINES</td>\n",
              "      <td>283</td>\n",
              "    </tr>\n",
              "    <tr>\n",
              "      <th>26</th>\n",
              "      <td>MEDICAL</td>\n",
              "      <td>463</td>\n",
              "    </tr>\n",
              "    <tr>\n",
              "      <th>27</th>\n",
              "      <td>COMMUNICATION</td>\n",
              "      <td>387</td>\n",
              "    </tr>\n",
              "    <tr>\n",
              "      <th>28</th>\n",
              "      <td>MAPS_AND_NAVIGATION</td>\n",
              "      <td>136</td>\n",
              "    </tr>\n",
              "    <tr>\n",
              "      <th>29</th>\n",
              "      <td>DATING</td>\n",
              "      <td>234</td>\n",
              "    </tr>\n",
              "    <tr>\n",
              "      <th>30</th>\n",
              "      <td>traffic jams</td>\n",
              "      <td>1</td>\n",
              "    </tr>\n",
              "    <tr>\n",
              "      <th>31</th>\n",
              "      <td>LIBRARIES_AND_DEMO</td>\n",
              "      <td>85</td>\n",
              "    </tr>\n",
              "    <tr>\n",
              "      <th>32</th>\n",
              "      <td>BEAUTY</td>\n",
              "      <td>53</td>\n",
              "    </tr>\n",
              "    <tr>\n",
              "      <th>33</th>\n",
              "      <td>SOCIAL</td>\n",
              "      <td>295</td>\n",
              "    </tr>\n",
              "    <tr>\n",
              "      <th>34</th>\n",
              "      <td>FINANCE</td>\n",
              "      <td>366</td>\n",
              "    </tr>\n",
              "    <tr>\n",
              "      <th>35</th>\n",
              "      <td>ART_AND_DESIGN</td>\n",
              "      <td>65</td>\n",
              "    </tr>\n",
              "  </tbody>\n",
              "</table>\n",
              "</div>\n",
              "      <button class=\"colab-df-convert\" onclick=\"convertToInteractive('df-49a63bb4-7cac-4f1b-a6ab-9798ba168111')\"\n",
              "              title=\"Convert this dataframe to an interactive table.\"\n",
              "              style=\"display:none;\">\n",
              "        \n",
              "  <svg xmlns=\"http://www.w3.org/2000/svg\" height=\"24px\"viewBox=\"0 0 24 24\"\n",
              "       width=\"24px\">\n",
              "    <path d=\"M0 0h24v24H0V0z\" fill=\"none\"/>\n",
              "    <path d=\"M18.56 5.44l.94 2.06.94-2.06 2.06-.94-2.06-.94-.94-2.06-.94 2.06-2.06.94zm-11 1L8.5 8.5l.94-2.06 2.06-.94-2.06-.94L8.5 2.5l-.94 2.06-2.06.94zm10 10l.94 2.06.94-2.06 2.06-.94-2.06-.94-.94-2.06-.94 2.06-2.06.94z\"/><path d=\"M17.41 7.96l-1.37-1.37c-.4-.4-.92-.59-1.43-.59-.52 0-1.04.2-1.43.59L10.3 9.45l-7.72 7.72c-.78.78-.78 2.05 0 2.83L4 21.41c.39.39.9.59 1.41.59.51 0 1.02-.2 1.41-.59l7.78-7.78 2.81-2.81c.8-.78.8-2.07 0-2.86zM5.41 20L4 18.59l7.72-7.72 1.47 1.35L5.41 20z\"/>\n",
              "  </svg>\n",
              "      </button>\n",
              "      \n",
              "  <style>\n",
              "    .colab-df-container {\n",
              "      display:flex;\n",
              "      flex-wrap:wrap;\n",
              "      gap: 12px;\n",
              "    }\n",
              "\n",
              "    .colab-df-convert {\n",
              "      background-color: #E8F0FE;\n",
              "      border: none;\n",
              "      border-radius: 50%;\n",
              "      cursor: pointer;\n",
              "      display: none;\n",
              "      fill: #1967D2;\n",
              "      height: 32px;\n",
              "      padding: 0 0 0 0;\n",
              "      width: 32px;\n",
              "    }\n",
              "\n",
              "    .colab-df-convert:hover {\n",
              "      background-color: #E2EBFA;\n",
              "      box-shadow: 0px 1px 2px rgba(60, 64, 67, 0.3), 0px 1px 3px 1px rgba(60, 64, 67, 0.15);\n",
              "      fill: #174EA6;\n",
              "    }\n",
              "\n",
              "    [theme=dark] .colab-df-convert {\n",
              "      background-color: #3B4455;\n",
              "      fill: #D2E3FC;\n",
              "    }\n",
              "\n",
              "    [theme=dark] .colab-df-convert:hover {\n",
              "      background-color: #434B5C;\n",
              "      box-shadow: 0px 1px 3px 1px rgba(0, 0, 0, 0.15);\n",
              "      filter: drop-shadow(0px 1px 2px rgba(0, 0, 0, 0.3));\n",
              "      fill: #FFFFFF;\n",
              "    }\n",
              "  </style>\n",
              "\n",
              "      <script>\n",
              "        const buttonEl =\n",
              "          document.querySelector('#df-49a63bb4-7cac-4f1b-a6ab-9798ba168111 button.colab-df-convert');\n",
              "        buttonEl.style.display =\n",
              "          google.colab.kernel.accessAllowed ? 'block' : 'none';\n",
              "\n",
              "        async function convertToInteractive(key) {\n",
              "          const element = document.querySelector('#df-49a63bb4-7cac-4f1b-a6ab-9798ba168111');\n",
              "          const dataTable =\n",
              "            await google.colab.kernel.invokeFunction('convertToInteractive',\n",
              "                                                     [key], {});\n",
              "          if (!dataTable) return;\n",
              "\n",
              "          const docLinkHtml = 'Like what you see? Visit the ' +\n",
              "            '<a target=\"_blank\" href=https://colab.research.google.com/notebooks/data_table.ipynb>data table notebook</a>'\n",
              "            + ' to learn more about interactive tables.';\n",
              "          element.innerHTML = '';\n",
              "          dataTable['output_type'] = 'display_data';\n",
              "          await google.colab.output.renderOutput(dataTable, element);\n",
              "          const docLink = document.createElement('div');\n",
              "          docLink.innerHTML = docLinkHtml;\n",
              "          element.appendChild(docLink);\n",
              "        }\n",
              "      </script>\n",
              "    </div>\n",
              "  </div>\n",
              "  "
            ]
          },
          "metadata": {},
          "execution_count": 172
        }
      ]
    },
    {
      "cell_type": "code",
      "source": [
        "apps = apps.where(\"Category <> '1.9'\")\n",
        "apps = apps.where(\"Category <> 'Face'\")\n",
        "apps = apps.where(\"Category <> 'traffic jams'\")\n",
        "\n",
        "apps.groupBy('Category').count().show(36)"
      ],
      "metadata": {
        "colab": {
          "base_uri": "https://localhost:8080/"
        },
        "id": "iycwE-r0Sxqz",
        "outputId": "95078f21-24f6-44b6-f961-af045dad3d92"
      },
      "execution_count": null,
      "outputs": [
        {
          "output_type": "stream",
          "name": "stdout",
          "text": [
            "+-------------------+-----+\n",
            "|           Category|count|\n",
            "+-------------------+-----+\n",
            "|             EVENTS|   64|\n",
            "|             COMICS|   60|\n",
            "|             SPORTS|  384|\n",
            "|            WEATHER|   82|\n",
            "|      VIDEO_PLAYERS|  175|\n",
            "|  AUTO_AND_VEHICLES|   85|\n",
            "|          PARENTING|   60|\n",
            "|      ENTERTAINMENT|  149|\n",
            "|    PERSONALIZATION|  392|\n",
            "| HEALTH_AND_FITNESS|  340|\n",
            "|   TRAVEL_AND_LOCAL|  258|\n",
            "|BOOKS_AND_REFERENCE|  231|\n",
            "|     FOOD_AND_DRINK|  127|\n",
            "|        PHOTOGRAPHY|  335|\n",
            "|           BUSINESS|  460|\n",
            "|             FAMILY| 1972|\n",
            "|           SHOPPING|  260|\n",
            "|     HOUSE_AND_HOME|   88|\n",
            "|               GAME| 1144|\n",
            "|          EDUCATION|  156|\n",
            "|       PRODUCTIVITY|  424|\n",
            "|              TOOLS|  843|\n",
            "|          LIFESTYLE|  382|\n",
            "| NEWS_AND_MAGAZINES|  283|\n",
            "|            MEDICAL|  463|\n",
            "|      COMMUNICATION|  387|\n",
            "|MAPS_AND_NAVIGATION|  136|\n",
            "|             DATING|  234|\n",
            "|       traffic jams|    1|\n",
            "| LIBRARIES_AND_DEMO|   85|\n",
            "|             BEAUTY|   53|\n",
            "|             SOCIAL|  295|\n",
            "|            FINANCE|  366|\n",
            "|     ART_AND_DESIGN|   65|\n",
            "+-------------------+-----+\n",
            "\n"
          ]
        }
      ]
    },
    {
      "cell_type": "markdown",
      "source": [
        "we should cluster in categories and recommand apps from selected cluster"
      ],
      "metadata": {
        "id": "2seWajtNV6_k"
      }
    },
    {
      "cell_type": "code",
      "source": [
        "for cat in categorical_group['Category']:\n",
        "  print(cat)\n",
        "  apps.filter(\"Category = '\"+ cat + \"'\").groupBy('Genres').count().show()"
      ],
      "metadata": {
        "colab": {
          "base_uri": "https://localhost:8080/"
        },
        "id": "ba4PdNkOWJC7",
        "outputId": "106d58fd-3f7f-4b37-e747-47fe16aaf236"
      },
      "execution_count": null,
      "outputs": [
        {
          "output_type": "stream",
          "name": "stdout",
          "text": [
            "EVENTS\n",
            "+------+-----+\n",
            "|Genres|count|\n",
            "+------+-----+\n",
            "|Events|   64|\n",
            "+------+-----+\n",
            "\n",
            "COMICS\n",
            "+-----------------+-----+\n",
            "|           Genres|count|\n",
            "+-----------------+-----+\n",
            "|Comics;Creativity|    1|\n",
            "|           Comics|   59|\n",
            "+-----------------+-----+\n",
            "\n",
            "SPORTS\n",
            "+------+-----+\n",
            "|Genres|count|\n",
            "+------+-----+\n",
            "|Sports|  384|\n",
            "+------+-----+\n",
            "\n",
            "WEATHER\n",
            "+-------+-----+\n",
            "| Genres|count|\n",
            "+-------+-----+\n",
            "|Weather|   82|\n",
            "+-------+-----+\n",
            "\n",
            "VIDEO_PLAYERS\n",
            "+--------------------+-----+\n",
            "|              Genres|count|\n",
            "+--------------------+-----+\n",
            "|Video Players & E...|    1|\n",
            "|Video Players & E...|    1|\n",
            "|Video Players & E...|  173|\n",
            "+--------------------+-----+\n",
            "\n",
            "AUTO_AND_VEHICLES\n",
            "+---------------+-----+\n",
            "|         Genres|count|\n",
            "+---------------+-----+\n",
            "|Auto & Vehicles|   85|\n",
            "+---------------+-----+\n",
            "\n",
            "PARENTING\n",
            "+--------------------+-----+\n",
            "|              Genres|count|\n",
            "+--------------------+-----+\n",
            "|Parenting;Brain G...|    1|\n",
            "| Parenting;Education|    7|\n",
            "|Parenting;Music &...|    6|\n",
            "|           Parenting|   46|\n",
            "+--------------------+-----+\n",
            "\n",
            "ENTERTAINMENT\n",
            "+--------------------+-----+\n",
            "|              Genres|count|\n",
            "+--------------------+-----+\n",
            "|       Entertainment|  136|\n",
            "|Entertainment;Mus...|   10|\n",
            "|Entertainment;Bra...|    2|\n",
            "|Entertainment;Cre...|    1|\n",
            "+--------------------+-----+\n",
            "\n",
            "PERSONALIZATION\n",
            "+---------------+-----+\n",
            "|         Genres|count|\n",
            "+---------------+-----+\n",
            "|Personalization|  392|\n",
            "+---------------+-----+\n",
            "\n",
            "HEALTH_AND_FITNESS\n",
            "+----------------+-----+\n",
            "|          Genres|count|\n",
            "+----------------+-----+\n",
            "|Health & Fitness|  340|\n",
            "+----------------+-----+\n",
            "\n",
            "TRAVEL_AND_LOCAL\n",
            "+--------------------+-----+\n",
            "|              Genres|count|\n",
            "+--------------------+-----+\n",
            "|Travel & Local;Ac...|    1|\n",
            "|      Travel & Local|  257|\n",
            "+--------------------+-----+\n",
            "\n",
            "BOOKS_AND_REFERENCE\n",
            "+-----------------+-----+\n",
            "|           Genres|count|\n",
            "+-----------------+-----+\n",
            "|Books & Reference|  231|\n",
            "+-----------------+-----+\n",
            "\n",
            "FOOD_AND_DRINK\n",
            "+------------+-----+\n",
            "|      Genres|count|\n",
            "+------------+-----+\n",
            "|Food & Drink|  127|\n",
            "+------------+-----+\n",
            "\n",
            "PHOTOGRAPHY\n",
            "+-----------+-----+\n",
            "|     Genres|count|\n",
            "+-----------+-----+\n",
            "|Photography|  335|\n",
            "+-----------+-----+\n",
            "\n",
            "BUSINESS\n",
            "+--------+-----+\n",
            "|  Genres|count|\n",
            "+--------+-----+\n",
            "|Business|  460|\n",
            "+--------+-----+\n",
            "\n",
            "FAMILY\n",
            "+--------------------+-----+\n",
            "|              Genres|count|\n",
            "+--------------------+-----+\n",
            "|Video Players & E...|    1|\n",
            "|Adventure;Action ...|    8|\n",
            "|           Education|  420|\n",
            "|Art & Design;Acti...|    1|\n",
            "|Simulation;Action...|   10|\n",
            "|Education;Pretend...|   19|\n",
            "|       Entertainment|  487|\n",
            "| Education;Education|   35|\n",
            "|Entertainment;Mus...|   17|\n",
            "|Simulation;Preten...|    4|\n",
            "|Arcade;Action & A...|   16|\n",
            "|Educational;Creat...|    5|\n",
            "| Arcade;Pretend Play|    1|\n",
            "|Casual;Music & Video|    2|\n",
            "|Books & Reference...|    1|\n",
            "|Education;Brain G...|    2|\n",
            "|Entertainment;Bra...|    6|\n",
            "|Health & Fitness;...|    1|\n",
            "|Entertainment;Act...|    3|\n",
            "| Adventure;Education|    2|\n",
            "+--------------------+-----+\n",
            "only showing top 20 rows\n",
            "\n",
            "SHOPPING\n",
            "+--------+-----+\n",
            "|  Genres|count|\n",
            "+--------+-----+\n",
            "|Shopping|  260|\n",
            "+--------+-----+\n",
            "\n",
            "HOUSE_AND_HOME\n",
            "+------------+-----+\n",
            "|      Genres|count|\n",
            "+------------+-----+\n",
            "|House & Home|   88|\n",
            "+------------+-----+\n",
            "\n",
            "GAME\n",
            "+--------------------+-----+\n",
            "|              Genres|count|\n",
            "+--------------------+-----+\n",
            "|Adventure;Action ...|    5|\n",
            "|              Trivia|   38|\n",
            "|Simulation;Action...|    1|\n",
            "|           Adventure|   75|\n",
            "|              Arcade|  220|\n",
            "|              Sports|   14|\n",
            "|        Role Playing|   16|\n",
            "| Casual;Pretend Play|    1|\n",
            "|Action;Action & A...|    3|\n",
            "|              Racing|   98|\n",
            "|   Casual;Creativity|    1|\n",
            "|                Card|   48|\n",
            "|Casual;Action & A...|    1|\n",
            "|              Casino|   39|\n",
            "|               Music|   22|\n",
            "|  Casual;Brain Games|    1|\n",
            "|              Puzzle|   42|\n",
            "|              Casual|   45|\n",
            "|               Board|   44|\n",
            "|Simulation;Education|    1|\n",
            "+--------------------+-----+\n",
            "only showing top 20 rows\n",
            "\n",
            "Face\n",
            "+------+-----+\n",
            "|Genres|count|\n",
            "+------+-----+\n",
            "+------+-----+\n",
            "\n",
            "1.9\n",
            "+------+-----+\n",
            "|Genres|count|\n",
            "+------+-----+\n",
            "+------+-----+\n",
            "\n",
            "EDUCATION\n",
            "+--------------------+-----+\n",
            "|              Genres|count|\n",
            "+--------------------+-----+\n",
            "|           Education|  129|\n",
            "|Education;Pretend...|    4|\n",
            "| Education;Education|   15|\n",
            "|Education;Brain G...|    3|\n",
            "|Education;Action ...|    1|\n",
            "|Education;Music &...|    1|\n",
            "|Education;Creativity|    3|\n",
            "+--------------------+-----+\n",
            "\n",
            "PRODUCTIVITY\n",
            "+------------+-----+\n",
            "|      Genres|count|\n",
            "+------------+-----+\n",
            "|Productivity|  424|\n",
            "+------------+-----+\n",
            "\n",
            "TOOLS\n",
            "+---------------+-----+\n",
            "|         Genres|count|\n",
            "+---------------+-----+\n",
            "|Tools;Education|    1|\n",
            "|          Tools|  842|\n",
            "+---------------+-----+\n",
            "\n",
            "LIFESTYLE\n",
            "+--------------------+-----+\n",
            "|              Genres|count|\n",
            "+--------------------+-----+\n",
            "|Lifestyle;Pretend...|    1|\n",
            "|           Lifestyle|  381|\n",
            "+--------------------+-----+\n",
            "\n",
            "NEWS_AND_MAGAZINES\n",
            "+----------------+-----+\n",
            "|          Genres|count|\n",
            "+----------------+-----+\n",
            "|News & Magazines|  283|\n",
            "+----------------+-----+\n",
            "\n",
            "MEDICAL\n",
            "+-------+-----+\n",
            "| Genres|count|\n",
            "+-------+-----+\n",
            "|Medical|  463|\n",
            "+-------+-----+\n",
            "\n",
            "COMMUNICATION\n",
            "+-------------+-----+\n",
            "|       Genres|count|\n",
            "+-------------+-----+\n",
            "|Communication|  387|\n",
            "+-------------+-----+\n",
            "\n",
            "MAPS_AND_NAVIGATION\n",
            "+-----------------+-----+\n",
            "|           Genres|count|\n",
            "+-----------------+-----+\n",
            "|Maps & Navigation|  136|\n",
            "+-----------------+-----+\n",
            "\n",
            "DATING\n",
            "+------+-----+\n",
            "|Genres|count|\n",
            "+------+-----+\n",
            "|Dating|  234|\n",
            "+------+-----+\n",
            "\n",
            " traffic jams\n",
            "+------+-----+\n",
            "|Genres|count|\n",
            "+------+-----+\n",
            "|  Free|    1|\n",
            "+------+-----+\n",
            "\n",
            "LIBRARIES_AND_DEMO\n",
            "+----------------+-----+\n",
            "|          Genres|count|\n",
            "+----------------+-----+\n",
            "|Libraries & Demo|   85|\n",
            "+----------------+-----+\n",
            "\n",
            "BEAUTY\n",
            "+------+-----+\n",
            "|Genres|count|\n",
            "+------+-----+\n",
            "|Beauty|   53|\n",
            "+------+-----+\n",
            "\n",
            "SOCIAL\n",
            "+------+-----+\n",
            "|Genres|count|\n",
            "+------+-----+\n",
            "|Social|  295|\n",
            "+------+-----+\n",
            "\n",
            "FINANCE\n",
            "+-------+-----+\n",
            "| Genres|count|\n",
            "+-------+-----+\n",
            "|Finance|  366|\n",
            "+-------+-----+\n",
            "\n",
            "ART_AND_DESIGN\n",
            "+--------------------+-----+\n",
            "|              Genres|count|\n",
            "+--------------------+-----+\n",
            "|Art & Design;Acti...|    1|\n",
            "|Art & Design;Crea...|    5|\n",
            "|Art & Design;Pret...|    1|\n",
            "|        Art & Design|   58|\n",
            "+--------------------+-----+\n",
            "\n"
          ]
        }
      ]
    },
    {
      "cell_type": "markdown",
      "source": [
        "except Games and Family we dont need Genres column"
      ],
      "metadata": {
        "id": "JarupyMmXDSf"
      }
    },
    {
      "cell_type": "code",
      "source": [
        "apps = apps.drop('Genres')\n",
        "apps.show()"
      ],
      "metadata": {
        "colab": {
          "base_uri": "https://localhost:8080/"
        },
        "id": "OpqJ9L6YZuRf",
        "outputId": "f1e25903-9681-475c-cfc0-2a681bc8d55b"
      },
      "execution_count": null,
      "outputs": [
        {
          "output_type": "stream",
          "name": "stdout",
          "text": [
            "+--------------------+--------------+------+-------+----+-----------+----+-----+--------------+\n",
            "|                 App|      Category|Rating|Reviews|Size|   Installs|Type|Price|Content Rating|\n",
            "+--------------------+--------------+------+-------+----+-----------+----+-----+--------------+\n",
            "|Photo Editor & Ca...|ART_AND_DESIGN|   4.1|    159| 19M|    10,000+|Free|    0|      Everyone|\n",
            "| Coloring book moana|ART_AND_DESIGN|   3.9|    967| 14M|   500,000+|Free|    0|      Everyone|\n",
            "|U Launcher Lite –...|ART_AND_DESIGN|   4.7|  87510|8.7M| 5,000,000+|Free|    0|      Everyone|\n",
            "|Sketch - Draw & P...|ART_AND_DESIGN|   4.5| 215644| 25M|50,000,000+|Free|    0|          Teen|\n",
            "|Pixel Draw - Numb...|ART_AND_DESIGN|   4.3|    967|2.8M|   100,000+|Free|    0|      Everyone|\n",
            "|Paper flowers ins...|ART_AND_DESIGN|   4.4|    167|5.6M|    50,000+|Free|    0|      Everyone|\n",
            "|Smoke Effect Phot...|ART_AND_DESIGN|   3.8|    178| 19M|    50,000+|Free|    0|      Everyone|\n",
            "|    Infinite Painter|ART_AND_DESIGN|   4.1|  36815| 29M| 1,000,000+|Free|    0|      Everyone|\n",
            "|Garden Coloring Book|ART_AND_DESIGN|   4.4|  13791| 33M| 1,000,000+|Free|    0|      Everyone|\n",
            "|Kids Paint Free -...|ART_AND_DESIGN|   4.7|    121|3.1M|    10,000+|Free|    0|      Everyone|\n",
            "|Text on Photo - F...|ART_AND_DESIGN|   4.4|  13880| 28M| 1,000,000+|Free|    0|      Everyone|\n",
            "|Name Art Photo Ed...|ART_AND_DESIGN|   4.4|   8788| 12M| 1,000,000+|Free|    0|      Everyone|\n",
            "|Tattoo Name On My...|ART_AND_DESIGN|   4.2|  44829| 20M|10,000,000+|Free|    0|          Teen|\n",
            "|Mandala Coloring ...|ART_AND_DESIGN|   4.6|   4326| 21M|   100,000+|Free|    0|      Everyone|\n",
            "|3D Color Pixel by...|ART_AND_DESIGN|   4.4|   1518| 37M|   100,000+|Free|    0|      Everyone|\n",
            "|Learn To Draw Kaw...|ART_AND_DESIGN|   3.2|     55|2.7M|     5,000+|Free|    0|      Everyone|\n",
            "|Photo Designer - ...|ART_AND_DESIGN|   4.7|   3632|5.5M|   500,000+|Free|    0|      Everyone|\n",
            "|350 Diy Room Deco...|ART_AND_DESIGN|   4.5|     27| 17M|    10,000+|Free|    0|      Everyone|\n",
            "|FlipaClip - Carto...|ART_AND_DESIGN|   4.3| 194216| 39M| 5,000,000+|Free|    0|      Everyone|\n",
            "|        ibis Paint X|ART_AND_DESIGN|   4.6| 224399| 31M|10,000,000+|Free|    0|      Everyone|\n",
            "+--------------------+--------------+------+-------+----+-----------+----+-----+--------------+\n",
            "only showing top 20 rows\n",
            "\n"
          ]
        }
      ]
    },
    {
      "cell_type": "markdown",
      "source": [
        "## Type and price"
      ],
      "metadata": {
        "id": "nebKTrxGXKag"
      }
    },
    {
      "cell_type": "code",
      "source": [
        "spark.sql(\"SELECT Type, count(*) FROM apps GROUP BY Type\").show()"
      ],
      "metadata": {
        "colab": {
          "base_uri": "https://localhost:8080/"
        },
        "id": "JpgUDV0G7ZPI",
        "outputId": "69a3bbe2-87f9-47e5-a115-a56022cdcb1b"
      },
      "execution_count": null,
      "outputs": [
        {
          "output_type": "stream",
          "name": "stdout",
          "text": [
            "+------+--------+\n",
            "|  Type|count(1)|\n",
            "+------+--------+\n",
            "|     0|       1|\n",
            "|102248|       1|\n",
            "|   NaN|       1|\n",
            "|  Free|   10037|\n",
            "|  Paid|     800|\n",
            "|  2509|       1|\n",
            "+------+--------+\n",
            "\n"
          ]
        }
      ]
    },
    {
      "cell_type": "code",
      "source": [
        "apps = apps.filter(\"Type == 'Free' or Type == 'Paid'\")"
      ],
      "metadata": {
        "id": "W66mkhsCYnDw"
      },
      "execution_count": null,
      "outputs": []
    },
    {
      "cell_type": "code",
      "source": [
        "apps = apps.drop('Type')\n",
        "apps.show()"
      ],
      "metadata": {
        "colab": {
          "base_uri": "https://localhost:8080/"
        },
        "id": "SgN5L6SuYxLk",
        "outputId": "a91f043a-4b0a-4767-f548-3f32c75d7501"
      },
      "execution_count": null,
      "outputs": [
        {
          "output_type": "stream",
          "name": "stdout",
          "text": [
            "+--------------------+--------------+------+-------+----+-----------+-----+--------------+\n",
            "|                 App|      Category|Rating|Reviews|Size|   Installs|Price|Content Rating|\n",
            "+--------------------+--------------+------+-------+----+-----------+-----+--------------+\n",
            "|Photo Editor & Ca...|ART_AND_DESIGN|   4.1|    159| 19M|    10,000+|    0|      Everyone|\n",
            "| Coloring book moana|ART_AND_DESIGN|   3.9|    967| 14M|   500,000+|    0|      Everyone|\n",
            "|U Launcher Lite –...|ART_AND_DESIGN|   4.7|  87510|8.7M| 5,000,000+|    0|      Everyone|\n",
            "|Sketch - Draw & P...|ART_AND_DESIGN|   4.5| 215644| 25M|50,000,000+|    0|          Teen|\n",
            "|Pixel Draw - Numb...|ART_AND_DESIGN|   4.3|    967|2.8M|   100,000+|    0|      Everyone|\n",
            "|Paper flowers ins...|ART_AND_DESIGN|   4.4|    167|5.6M|    50,000+|    0|      Everyone|\n",
            "|Smoke Effect Phot...|ART_AND_DESIGN|   3.8|    178| 19M|    50,000+|    0|      Everyone|\n",
            "|    Infinite Painter|ART_AND_DESIGN|   4.1|  36815| 29M| 1,000,000+|    0|      Everyone|\n",
            "|Garden Coloring Book|ART_AND_DESIGN|   4.4|  13791| 33M| 1,000,000+|    0|      Everyone|\n",
            "|Kids Paint Free -...|ART_AND_DESIGN|   4.7|    121|3.1M|    10,000+|    0|      Everyone|\n",
            "|Text on Photo - F...|ART_AND_DESIGN|   4.4|  13880| 28M| 1,000,000+|    0|      Everyone|\n",
            "|Name Art Photo Ed...|ART_AND_DESIGN|   4.4|   8788| 12M| 1,000,000+|    0|      Everyone|\n",
            "|Tattoo Name On My...|ART_AND_DESIGN|   4.2|  44829| 20M|10,000,000+|    0|          Teen|\n",
            "|Mandala Coloring ...|ART_AND_DESIGN|   4.6|   4326| 21M|   100,000+|    0|      Everyone|\n",
            "|3D Color Pixel by...|ART_AND_DESIGN|   4.4|   1518| 37M|   100,000+|    0|      Everyone|\n",
            "|Learn To Draw Kaw...|ART_AND_DESIGN|   3.2|     55|2.7M|     5,000+|    0|      Everyone|\n",
            "|Photo Designer - ...|ART_AND_DESIGN|   4.7|   3632|5.5M|   500,000+|    0|      Everyone|\n",
            "|350 Diy Room Deco...|ART_AND_DESIGN|   4.5|     27| 17M|    10,000+|    0|      Everyone|\n",
            "|FlipaClip - Carto...|ART_AND_DESIGN|   4.3| 194216| 39M| 5,000,000+|    0|      Everyone|\n",
            "|        ibis Paint X|ART_AND_DESIGN|   4.6| 224399| 31M|10,000,000+|    0|      Everyone|\n",
            "+--------------------+--------------+------+-------+----+-----------+-----+--------------+\n",
            "only showing top 20 rows\n",
            "\n"
          ]
        }
      ]
    },
    {
      "cell_type": "markdown",
      "source": [
        "## Cast Reviews and Price to int"
      ],
      "metadata": {
        "id": "WP21PThwa6V5"
      }
    },
    {
      "cell_type": "code",
      "source": [
        "from pyspark.sql.functions import col\n",
        "\n",
        "apps = apps.withColumn('Reviews', apps.Reviews.cast(\"int\"))\n",
        "apps = apps.withColumn('Price', apps.Price.cast(\"int\"))\n",
        "\n",
        "apps.show()"
      ],
      "metadata": {
        "colab": {
          "base_uri": "https://localhost:8080/"
        },
        "id": "m6zGqGmAa49t",
        "outputId": "3f994aae-d2cc-4b0a-f84e-a79e26dd090a"
      },
      "execution_count": null,
      "outputs": [
        {
          "output_type": "stream",
          "name": "stdout",
          "text": [
            "+--------------------+--------------+------+-------+----+-----------+-----+--------------+\n",
            "|                 App|      Category|Rating|Reviews|Size|   Installs|Price|Content Rating|\n",
            "+--------------------+--------------+------+-------+----+-----------+-----+--------------+\n",
            "|Photo Editor & Ca...|ART_AND_DESIGN|   4.1|    159| 19M|    10,000+|    0|      Everyone|\n",
            "| Coloring book moana|ART_AND_DESIGN|   3.9|    967| 14M|   500,000+|    0|      Everyone|\n",
            "|U Launcher Lite –...|ART_AND_DESIGN|   4.7|  87510|8.7M| 5,000,000+|    0|      Everyone|\n",
            "|Sketch - Draw & P...|ART_AND_DESIGN|   4.5| 215644| 25M|50,000,000+|    0|          Teen|\n",
            "|Pixel Draw - Numb...|ART_AND_DESIGN|   4.3|    967|2.8M|   100,000+|    0|      Everyone|\n",
            "|Paper flowers ins...|ART_AND_DESIGN|   4.4|    167|5.6M|    50,000+|    0|      Everyone|\n",
            "|Smoke Effect Phot...|ART_AND_DESIGN|   3.8|    178| 19M|    50,000+|    0|      Everyone|\n",
            "|    Infinite Painter|ART_AND_DESIGN|   4.1|  36815| 29M| 1,000,000+|    0|      Everyone|\n",
            "|Garden Coloring Book|ART_AND_DESIGN|   4.4|  13791| 33M| 1,000,000+|    0|      Everyone|\n",
            "|Kids Paint Free -...|ART_AND_DESIGN|   4.7|    121|3.1M|    10,000+|    0|      Everyone|\n",
            "|Text on Photo - F...|ART_AND_DESIGN|   4.4|  13880| 28M| 1,000,000+|    0|      Everyone|\n",
            "|Name Art Photo Ed...|ART_AND_DESIGN|   4.4|   8788| 12M| 1,000,000+|    0|      Everyone|\n",
            "|Tattoo Name On My...|ART_AND_DESIGN|   4.2|  44829| 20M|10,000,000+|    0|          Teen|\n",
            "|Mandala Coloring ...|ART_AND_DESIGN|   4.6|   4326| 21M|   100,000+|    0|      Everyone|\n",
            "|3D Color Pixel by...|ART_AND_DESIGN|   4.4|   1518| 37M|   100,000+|    0|      Everyone|\n",
            "|Learn To Draw Kaw...|ART_AND_DESIGN|   3.2|     55|2.7M|     5,000+|    0|      Everyone|\n",
            "|Photo Designer - ...|ART_AND_DESIGN|   4.7|   3632|5.5M|   500,000+|    0|      Everyone|\n",
            "|350 Diy Room Deco...|ART_AND_DESIGN|   4.5|     27| 17M|    10,000+|    0|      Everyone|\n",
            "|FlipaClip - Carto...|ART_AND_DESIGN|   4.3| 194216| 39M| 5,000,000+|    0|      Everyone|\n",
            "|        ibis Paint X|ART_AND_DESIGN|   4.6| 224399| 31M|10,000,000+|    0|      Everyone|\n",
            "+--------------------+--------------+------+-------+----+-----------+-----+--------------+\n",
            "only showing top 20 rows\n",
            "\n"
          ]
        }
      ]
    },
    {
      "cell_type": "markdown",
      "source": [
        "## Cast rating * 10 to int"
      ],
      "metadata": {
        "id": "p0dGZwSlcWgm"
      }
    },
    {
      "cell_type": "code",
      "source": [
        "from pyspark.sql.functions import udf, lit\n",
        "from pyspark.sql.types import IntegerType\n",
        "\n",
        "@udf\n",
        "def cast_rating(rate):\n",
        "  return float(rate) * 10\n",
        "\n",
        "\n",
        "apps = apps.withColumn('Rating', lit(cast_rating(apps.Rating)))"
      ],
      "metadata": {
        "id": "vfffn3VLcT-D"
      },
      "execution_count": null,
      "outputs": []
    },
    {
      "cell_type": "code",
      "source": [
        "apps = apps.withColumn('Rating', apps.Rating.cast(\"int\"))\n",
        "apps.show()"
      ],
      "metadata": {
        "colab": {
          "base_uri": "https://localhost:8080/"
        },
        "id": "DWlHQjsBgnxP",
        "outputId": "7430175e-ebfc-4966-d1ef-06fddbae4262"
      },
      "execution_count": null,
      "outputs": [
        {
          "output_type": "stream",
          "name": "stdout",
          "text": [
            "+--------------------+--------------+------+-------+----+-----------+-----+--------------+\n",
            "|                 App|      Category|Rating|Reviews|Size|   Installs|Price|Content Rating|\n",
            "+--------------------+--------------+------+-------+----+-----------+-----+--------------+\n",
            "|Photo Editor & Ca...|ART_AND_DESIGN|    41|    159| 19M|    10,000+|    0|      Everyone|\n",
            "| Coloring book moana|ART_AND_DESIGN|    39|    967| 14M|   500,000+|    0|      Everyone|\n",
            "|U Launcher Lite –...|ART_AND_DESIGN|    47|  87510|8.7M| 5,000,000+|    0|      Everyone|\n",
            "|Sketch - Draw & P...|ART_AND_DESIGN|    45| 215644| 25M|50,000,000+|    0|          Teen|\n",
            "|Pixel Draw - Numb...|ART_AND_DESIGN|    43|    967|2.8M|   100,000+|    0|      Everyone|\n",
            "|Paper flowers ins...|ART_AND_DESIGN|    44|    167|5.6M|    50,000+|    0|      Everyone|\n",
            "|Smoke Effect Phot...|ART_AND_DESIGN|    38|    178| 19M|    50,000+|    0|      Everyone|\n",
            "|    Infinite Painter|ART_AND_DESIGN|    41|  36815| 29M| 1,000,000+|    0|      Everyone|\n",
            "|Garden Coloring Book|ART_AND_DESIGN|    44|  13791| 33M| 1,000,000+|    0|      Everyone|\n",
            "|Kids Paint Free -...|ART_AND_DESIGN|    47|    121|3.1M|    10,000+|    0|      Everyone|\n",
            "|Text on Photo - F...|ART_AND_DESIGN|    44|  13880| 28M| 1,000,000+|    0|      Everyone|\n",
            "|Name Art Photo Ed...|ART_AND_DESIGN|    44|   8788| 12M| 1,000,000+|    0|      Everyone|\n",
            "|Tattoo Name On My...|ART_AND_DESIGN|    42|  44829| 20M|10,000,000+|    0|          Teen|\n",
            "|Mandala Coloring ...|ART_AND_DESIGN|    46|   4326| 21M|   100,000+|    0|      Everyone|\n",
            "|3D Color Pixel by...|ART_AND_DESIGN|    44|   1518| 37M|   100,000+|    0|      Everyone|\n",
            "|Learn To Draw Kaw...|ART_AND_DESIGN|    32|     55|2.7M|     5,000+|    0|      Everyone|\n",
            "|Photo Designer - ...|ART_AND_DESIGN|    47|   3632|5.5M|   500,000+|    0|      Everyone|\n",
            "|350 Diy Room Deco...|ART_AND_DESIGN|    45|     27| 17M|    10,000+|    0|      Everyone|\n",
            "|FlipaClip - Carto...|ART_AND_DESIGN|    43| 194216| 39M| 5,000,000+|    0|      Everyone|\n",
            "|        ibis Paint X|ART_AND_DESIGN|    46| 224399| 31M|10,000,000+|    0|      Everyone|\n",
            "+--------------------+--------------+------+-------+----+-----------+-----+--------------+\n",
            "only showing top 20 rows\n",
            "\n"
          ]
        }
      ]
    },
    {
      "cell_type": "markdown",
      "source": [
        "## Size"
      ],
      "metadata": {
        "id": "_AFURqXXifeb"
      }
    },
    {
      "cell_type": "code",
      "source": [
        "apps = apps.drop('Size')"
      ],
      "metadata": {
        "id": "VOfKpuW6iuYA"
      },
      "execution_count": null,
      "outputs": []
    },
    {
      "cell_type": "markdown",
      "source": [
        "## Installs"
      ],
      "metadata": {
        "id": "ueP06e5Xg6Kn"
      }
    },
    {
      "cell_type": "code",
      "source": [
        "print(apps.groupBy('Installs').count().count())\n",
        "apps.groupBy('Installs').count().show()"
      ],
      "metadata": {
        "colab": {
          "base_uri": "https://localhost:8080/"
        },
        "id": "d6JAuISCg5nc",
        "outputId": "66f73e81-ad0a-454e-fac2-794469c9fa20"
      },
      "execution_count": null,
      "outputs": [
        {
          "output_type": "stream",
          "name": "stdout",
          "text": [
            "20\n",
            "+--------------+-----+\n",
            "|      Installs|count|\n",
            "+--------------+-----+\n",
            "|       50,000+|  479|\n",
            "|          100+|  719|\n",
            "|    5,000,000+|  751|\n",
            "|  100,000,000+|  409|\n",
            "|1,000,000,000+|   58|\n",
            "|    1,000,000+| 1578|\n",
            "|  500,000,000+|   72|\n",
            "|           10+|  386|\n",
            "|           50+|  205|\n",
            "|            5+|   82|\n",
            "|          500+|  330|\n",
            "|        1,000+|  907|\n",
            "|      500,000+|  539|\n",
            "|            0+|   14|\n",
            "|        5,000+|  477|\n",
            "|   10,000,000+| 1252|\n",
            "|   50,000,000+|  289|\n",
            "|      100,000+| 1169|\n",
            "|            1+|   67|\n",
            "|       10,000+| 1054|\n",
            "+--------------+-----+\n",
            "\n"
          ]
        }
      ]
    },
    {
      "cell_type": "code",
      "source": [
        "@udf\n",
        "def install_handler(installs):\n",
        "  if installs == '1,000,000,000+' or installs == '500,000,000+' or installs == '100,000,000+':\n",
        "    return 'very high'\n",
        "  elif installs == '50,000,000+' or installs == '10,000,000+' or installs == '5,000,000+' or 'installs' == '1,000,000+':\n",
        "    return 'high'\n",
        "  elif installs == '500,000+' or installs == '100,000+' or installs == '50,000+' or 'installs' == '10,000+':\n",
        "    return 'medium'\n",
        "  else:\n",
        "    return 'low'"
      ],
      "metadata": {
        "id": "a7_MkiO4hMNK"
      },
      "execution_count": null,
      "outputs": []
    },
    {
      "cell_type": "code",
      "source": [
        "apps = apps.withColumn('Installs', lit(install_handler(apps.Installs)))\n",
        "apps.show()"
      ],
      "metadata": {
        "colab": {
          "base_uri": "https://localhost:8080/"
        },
        "id": "QpClt6G-hfCB",
        "outputId": "f146a07f-e060-4c27-c1a1-22b464848355"
      },
      "execution_count": null,
      "outputs": [
        {
          "output_type": "stream",
          "name": "stdout",
          "text": [
            "+--------------------+--------------+------+-------+--------+-----+--------------+\n",
            "|                 App|      Category|Rating|Reviews|Installs|Price|Content Rating|\n",
            "+--------------------+--------------+------+-------+--------+-----+--------------+\n",
            "|Photo Editor & Ca...|ART_AND_DESIGN|    41|    159|     low|    0|      Everyone|\n",
            "| Coloring book moana|ART_AND_DESIGN|    39|    967|  medium|    0|      Everyone|\n",
            "|U Launcher Lite –...|ART_AND_DESIGN|    47|  87510|    high|    0|      Everyone|\n",
            "|Sketch - Draw & P...|ART_AND_DESIGN|    45| 215644|    high|    0|          Teen|\n",
            "|Pixel Draw - Numb...|ART_AND_DESIGN|    43|    967|  medium|    0|      Everyone|\n",
            "|Paper flowers ins...|ART_AND_DESIGN|    44|    167|  medium|    0|      Everyone|\n",
            "|Smoke Effect Phot...|ART_AND_DESIGN|    38|    178|  medium|    0|      Everyone|\n",
            "|    Infinite Painter|ART_AND_DESIGN|    41|  36815|     low|    0|      Everyone|\n",
            "|Garden Coloring Book|ART_AND_DESIGN|    44|  13791|     low|    0|      Everyone|\n",
            "|Kids Paint Free -...|ART_AND_DESIGN|    47|    121|     low|    0|      Everyone|\n",
            "|Text on Photo - F...|ART_AND_DESIGN|    44|  13880|     low|    0|      Everyone|\n",
            "|Name Art Photo Ed...|ART_AND_DESIGN|    44|   8788|     low|    0|      Everyone|\n",
            "|Tattoo Name On My...|ART_AND_DESIGN|    42|  44829|    high|    0|          Teen|\n",
            "|Mandala Coloring ...|ART_AND_DESIGN|    46|   4326|  medium|    0|      Everyone|\n",
            "|3D Color Pixel by...|ART_AND_DESIGN|    44|   1518|  medium|    0|      Everyone|\n",
            "|Learn To Draw Kaw...|ART_AND_DESIGN|    32|     55|     low|    0|      Everyone|\n",
            "|Photo Designer - ...|ART_AND_DESIGN|    47|   3632|  medium|    0|      Everyone|\n",
            "|350 Diy Room Deco...|ART_AND_DESIGN|    45|     27|     low|    0|      Everyone|\n",
            "|FlipaClip - Carto...|ART_AND_DESIGN|    43| 194216|    high|    0|      Everyone|\n",
            "|        ibis Paint X|ART_AND_DESIGN|    46| 224399|    high|    0|      Everyone|\n",
            "+--------------------+--------------+------+-------+--------+-----+--------------+\n",
            "only showing top 20 rows\n",
            "\n"
          ]
        }
      ]
    },
    {
      "cell_type": "code",
      "source": [
        "apps.groupBy('Installs').count().show()"
      ],
      "metadata": {
        "colab": {
          "base_uri": "https://localhost:8080/"
        },
        "id": "FVhN_rTQiWs0",
        "outputId": "b92b19ad-51bf-4d36-a57d-17809238aac1"
      },
      "execution_count": null,
      "outputs": [
        {
          "output_type": "stream",
          "name": "stdout",
          "text": [
            "+---------+-----+\n",
            "| Installs|count|\n",
            "+---------+-----+\n",
            "|      low| 5819|\n",
            "|     high| 2292|\n",
            "|   medium| 2187|\n",
            "|very high|  539|\n",
            "+---------+-----+\n",
            "\n"
          ]
        }
      ]
    },
    {
      "cell_type": "code",
      "source": [
        "from pyspark.ml.feature import StringIndexer, OneHotEncoder, VectorAssembler\n",
        "\n",
        "installs_indexer = StringIndexer(inputCol=\"Installs\", outputCol=\"Installs Index\")\n",
        " \n",
        "installs_encoder = OneHotEncoder(inputCol=\"Installs Index\", outputCol=\"Installs Encoded\")\n"
      ],
      "metadata": {
        "id": "bUJMfPEzidEG"
      },
      "execution_count": null,
      "outputs": []
    },
    {
      "cell_type": "markdown",
      "source": [
        "## Content Rating"
      ],
      "metadata": {
        "id": "kf1Tkl4naH92"
      }
    },
    {
      "cell_type": "code",
      "source": [
        "apps.groupBy(\"Content Rating\").count().show()"
      ],
      "metadata": {
        "colab": {
          "base_uri": "https://localhost:8080/"
        },
        "id": "Tj-Jp7eSaKSv",
        "outputId": "55d340b7-7fa6-4064-e768-d5cc83327c2f"
      },
      "execution_count": null,
      "outputs": [
        {
          "output_type": "stream",
          "name": "stdout",
          "text": [
            "+---------------+-----+\n",
            "| Content Rating|count|\n",
            "+---------------+-----+\n",
            "|        Unrated|    2|\n",
            "|           Teen| 1208|\n",
            "|     Mature 17+|  498|\n",
            "|   Everyone 10+|  413|\n",
            "|       Everyone| 8713|\n",
            "|Adults only 18+|    3|\n",
            "+---------------+-----+\n",
            "\n"
          ]
        }
      ]
    },
    {
      "cell_type": "code",
      "source": [
        "from pyspark.ml.feature import StringIndexer, OneHotEncoder, VectorAssembler\n",
        "\n",
        "content_rating_indexer = StringIndexer(inputCol=\"Content Rating\", outputCol=\"Content Rating Index\")\n",
        " \n",
        "content_rating_encoder = OneHotEncoder(inputCol=\"Content Rating Index\", outputCol=\"Content Rating Encoded\")\n"
      ],
      "metadata": {
        "id": "oWJ3ZnGBaXjd"
      },
      "execution_count": null,
      "outputs": []
    },
    {
      "cell_type": "markdown",
      "source": [
        "## Vector Assembler"
      ],
      "metadata": {
        "id": "nVzHdixHjSR_"
      }
    },
    {
      "cell_type": "code",
      "source": [
        "apps.show()"
      ],
      "metadata": {
        "colab": {
          "base_uri": "https://localhost:8080/"
        },
        "id": "Rxiclb_7jXVn",
        "outputId": "9644b1f3-e87b-43ca-d251-ae1a5f9923f8"
      },
      "execution_count": null,
      "outputs": [
        {
          "output_type": "stream",
          "name": "stdout",
          "text": [
            "+--------------------+--------------+------+-------+--------+-----+--------------+\n",
            "|                 App|      Category|Rating|Reviews|Installs|Price|Content Rating|\n",
            "+--------------------+--------------+------+-------+--------+-----+--------------+\n",
            "|Photo Editor & Ca...|ART_AND_DESIGN|    41|    159|     low|    0|      Everyone|\n",
            "| Coloring book moana|ART_AND_DESIGN|    39|    967|  medium|    0|      Everyone|\n",
            "|U Launcher Lite –...|ART_AND_DESIGN|    47|  87510|    high|    0|      Everyone|\n",
            "|Sketch - Draw & P...|ART_AND_DESIGN|    45| 215644|    high|    0|          Teen|\n",
            "|Pixel Draw - Numb...|ART_AND_DESIGN|    43|    967|  medium|    0|      Everyone|\n",
            "|Paper flowers ins...|ART_AND_DESIGN|    44|    167|  medium|    0|      Everyone|\n",
            "|Smoke Effect Phot...|ART_AND_DESIGN|    38|    178|  medium|    0|      Everyone|\n",
            "|    Infinite Painter|ART_AND_DESIGN|    41|  36815|     low|    0|      Everyone|\n",
            "|Garden Coloring Book|ART_AND_DESIGN|    44|  13791|     low|    0|      Everyone|\n",
            "|Kids Paint Free -...|ART_AND_DESIGN|    47|    121|     low|    0|      Everyone|\n",
            "|Text on Photo - F...|ART_AND_DESIGN|    44|  13880|     low|    0|      Everyone|\n",
            "|Name Art Photo Ed...|ART_AND_DESIGN|    44|   8788|     low|    0|      Everyone|\n",
            "|Tattoo Name On My...|ART_AND_DESIGN|    42|  44829|    high|    0|          Teen|\n",
            "|Mandala Coloring ...|ART_AND_DESIGN|    46|   4326|  medium|    0|      Everyone|\n",
            "|3D Color Pixel by...|ART_AND_DESIGN|    44|   1518|  medium|    0|      Everyone|\n",
            "|Learn To Draw Kaw...|ART_AND_DESIGN|    32|     55|     low|    0|      Everyone|\n",
            "|Photo Designer - ...|ART_AND_DESIGN|    47|   3632|  medium|    0|      Everyone|\n",
            "|350 Diy Room Deco...|ART_AND_DESIGN|    45|     27|     low|    0|      Everyone|\n",
            "|FlipaClip - Carto...|ART_AND_DESIGN|    43| 194216|    high|    0|      Everyone|\n",
            "|        ibis Paint X|ART_AND_DESIGN|    46| 224399|    high|    0|      Everyone|\n",
            "+--------------------+--------------+------+-------+--------+-----+--------------+\n",
            "only showing top 20 rows\n",
            "\n"
          ]
        }
      ]
    },
    {
      "cell_type": "code",
      "source": [
        "vec_assembler = VectorAssembler(inputCols=[\"Rating\", \"Reviews\", \"Price\", \"Content Rating Encoded\", \"Installs Encoded\"], outputCol=\"features\")"
      ],
      "metadata": {
        "id": "g4kNAraUjQTU"
      },
      "execution_count": null,
      "outputs": []
    },
    {
      "cell_type": "markdown",
      "source": [
        "## Create Pipline"
      ],
      "metadata": {
        "id": "nSzfgbTgjmJK"
      }
    },
    {
      "cell_type": "code",
      "source": [
        "from pyspark.ml import Pipeline\n",
        "\n",
        "data_pipeline = Pipeline(stages=[installs_indexer, installs_encoder, content_rating_indexer, content_rating_encoder, vec_assembler])"
      ],
      "metadata": {
        "id": "7CHsZaYWjoWp"
      },
      "execution_count": null,
      "outputs": []
    },
    {
      "cell_type": "markdown",
      "source": [
        "# Recommender System"
      ],
      "metadata": {
        "id": "knVoFX4vkCui"
      }
    },
    {
      "cell_type": "code",
      "source": [
        "test = test.toPandas()"
      ],
      "metadata": {
        "colab": {
          "base_uri": "https://localhost:8080/",
          "height": 539
        },
        "id": "DG3FJMQJlaLS",
        "outputId": "daceeba5-a997-454e-ef73-1d34a1db73bf"
      },
      "execution_count": null,
      "outputs": [
        {
          "output_type": "execute_result",
          "data": {
            "text/plain": [
              "                                         App            Category Rating  \\\n",
              "0  Titanic App - Feminist Dating Application              DATING    4.5   \n",
              "1                Abs Training-Burn belly fat  HEALTH_AND_FITNESS    4.7   \n",
              "2                                  HD Camera         PHOTOGRAPHY    4.3   \n",
              "3         Flight & Hotel Booking App - ixigo    TRAVEL_AND_LOCAL    4.4   \n",
              "4                          Speech Therapy: F              FAMILY    1.0   \n",
              "5             Cp Calculator for Evolution:GO              FAMILY    4.8   \n",
              "6                       Radiology CT Anatomy             MEDICAL    4.2   \n",
              "7                 D.C. Driving/Walking Tours    TRAVEL_AND_LOCAL    NaN   \n",
              "8                               Wi-Fi Master               TOOLS    4.5   \n",
              "9                HD Themes Toyota Cruiser 80     PERSONALIZATION    NaN   \n",
              "\n",
              "  Reviews                Size    Installs  Type  Price Content Rating  \\\n",
              "0     120                 10M        500+  Free      0     Mature 17+   \n",
              "1    2071                6.9M    100,000+  Free      0       Everyone   \n",
              "2   49680                8.7M  5,000,000+  Free      0       Everyone   \n",
              "3   45562  Varies with device  5,000,000+  Free      0       Everyone   \n",
              "4       1                 16M         10+  Paid  $2.99       Everyone   \n",
              "5     124                2.5M        500+  Free      0       Everyone   \n",
              "6     345                 14M     50,000+  Free      0       Everyone   \n",
              "7       0                 32M         50+  Paid  $4.99       Everyone   \n",
              "8    3673                5.8M    500,000+  Free      0       Everyone   \n",
              "9       2                 13M        100+  Free      0           Teen   \n",
              "\n",
              "             Genres      Last Updated Current Ver   Android Ver  \n",
              "0            Dating    August 4, 2018    1.5-beta    5.0 and up  \n",
              "1  Health & Fitness     July 24, 2018      1.0.12    4.1 and up  \n",
              "2       Photography     July 11, 2018       1.8.5    4.2 and up  \n",
              "3    Travel & Local     July 30, 2018     4.0.9.1    4.1 and up  \n",
              "4         Education   October 7, 2016         1.0  2.3.3 and up  \n",
              "5     Entertainment   August 23, 2016         1.2    4.2 and up  \n",
              "6           Medical  January 20, 2018         1.6    4.0 and up  \n",
              "7    Travel & Local     July 27, 2018       3.8.0    4.4 and up  \n",
              "8             Tools     July 24, 2018       1.2.1    4.1 and up  \n",
              "9   Personalization   October 3, 2016         1.0  2.3.3 and up  "
            ],
            "text/html": [
              "\n",
              "  <div id=\"df-65c6cd64-926d-484d-9eb7-3a3b975f7430\">\n",
              "    <div class=\"colab-df-container\">\n",
              "      <div>\n",
              "<style scoped>\n",
              "    .dataframe tbody tr th:only-of-type {\n",
              "        vertical-align: middle;\n",
              "    }\n",
              "\n",
              "    .dataframe tbody tr th {\n",
              "        vertical-align: top;\n",
              "    }\n",
              "\n",
              "    .dataframe thead th {\n",
              "        text-align: right;\n",
              "    }\n",
              "</style>\n",
              "<table border=\"1\" class=\"dataframe\">\n",
              "  <thead>\n",
              "    <tr style=\"text-align: right;\">\n",
              "      <th></th>\n",
              "      <th>App</th>\n",
              "      <th>Category</th>\n",
              "      <th>Rating</th>\n",
              "      <th>Reviews</th>\n",
              "      <th>Size</th>\n",
              "      <th>Installs</th>\n",
              "      <th>Type</th>\n",
              "      <th>Price</th>\n",
              "      <th>Content Rating</th>\n",
              "      <th>Genres</th>\n",
              "      <th>Last Updated</th>\n",
              "      <th>Current Ver</th>\n",
              "      <th>Android Ver</th>\n",
              "    </tr>\n",
              "  </thead>\n",
              "  <tbody>\n",
              "    <tr>\n",
              "      <th>0</th>\n",
              "      <td>Titanic App - Feminist Dating Application</td>\n",
              "      <td>DATING</td>\n",
              "      <td>4.5</td>\n",
              "      <td>120</td>\n",
              "      <td>10M</td>\n",
              "      <td>500+</td>\n",
              "      <td>Free</td>\n",
              "      <td>0</td>\n",
              "      <td>Mature 17+</td>\n",
              "      <td>Dating</td>\n",
              "      <td>August 4, 2018</td>\n",
              "      <td>1.5-beta</td>\n",
              "      <td>5.0 and up</td>\n",
              "    </tr>\n",
              "    <tr>\n",
              "      <th>1</th>\n",
              "      <td>Abs Training-Burn belly fat</td>\n",
              "      <td>HEALTH_AND_FITNESS</td>\n",
              "      <td>4.7</td>\n",
              "      <td>2071</td>\n",
              "      <td>6.9M</td>\n",
              "      <td>100,000+</td>\n",
              "      <td>Free</td>\n",
              "      <td>0</td>\n",
              "      <td>Everyone</td>\n",
              "      <td>Health &amp; Fitness</td>\n",
              "      <td>July 24, 2018</td>\n",
              "      <td>1.0.12</td>\n",
              "      <td>4.1 and up</td>\n",
              "    </tr>\n",
              "    <tr>\n",
              "      <th>2</th>\n",
              "      <td>HD Camera</td>\n",
              "      <td>PHOTOGRAPHY</td>\n",
              "      <td>4.3</td>\n",
              "      <td>49680</td>\n",
              "      <td>8.7M</td>\n",
              "      <td>5,000,000+</td>\n",
              "      <td>Free</td>\n",
              "      <td>0</td>\n",
              "      <td>Everyone</td>\n",
              "      <td>Photography</td>\n",
              "      <td>July 11, 2018</td>\n",
              "      <td>1.8.5</td>\n",
              "      <td>4.2 and up</td>\n",
              "    </tr>\n",
              "    <tr>\n",
              "      <th>3</th>\n",
              "      <td>Flight &amp; Hotel Booking App - ixigo</td>\n",
              "      <td>TRAVEL_AND_LOCAL</td>\n",
              "      <td>4.4</td>\n",
              "      <td>45562</td>\n",
              "      <td>Varies with device</td>\n",
              "      <td>5,000,000+</td>\n",
              "      <td>Free</td>\n",
              "      <td>0</td>\n",
              "      <td>Everyone</td>\n",
              "      <td>Travel &amp; Local</td>\n",
              "      <td>July 30, 2018</td>\n",
              "      <td>4.0.9.1</td>\n",
              "      <td>4.1 and up</td>\n",
              "    </tr>\n",
              "    <tr>\n",
              "      <th>4</th>\n",
              "      <td>Speech Therapy: F</td>\n",
              "      <td>FAMILY</td>\n",
              "      <td>1.0</td>\n",
              "      <td>1</td>\n",
              "      <td>16M</td>\n",
              "      <td>10+</td>\n",
              "      <td>Paid</td>\n",
              "      <td>$2.99</td>\n",
              "      <td>Everyone</td>\n",
              "      <td>Education</td>\n",
              "      <td>October 7, 2016</td>\n",
              "      <td>1.0</td>\n",
              "      <td>2.3.3 and up</td>\n",
              "    </tr>\n",
              "    <tr>\n",
              "      <th>5</th>\n",
              "      <td>Cp Calculator for Evolution:GO</td>\n",
              "      <td>FAMILY</td>\n",
              "      <td>4.8</td>\n",
              "      <td>124</td>\n",
              "      <td>2.5M</td>\n",
              "      <td>500+</td>\n",
              "      <td>Free</td>\n",
              "      <td>0</td>\n",
              "      <td>Everyone</td>\n",
              "      <td>Entertainment</td>\n",
              "      <td>August 23, 2016</td>\n",
              "      <td>1.2</td>\n",
              "      <td>4.2 and up</td>\n",
              "    </tr>\n",
              "    <tr>\n",
              "      <th>6</th>\n",
              "      <td>Radiology CT Anatomy</td>\n",
              "      <td>MEDICAL</td>\n",
              "      <td>4.2</td>\n",
              "      <td>345</td>\n",
              "      <td>14M</td>\n",
              "      <td>50,000+</td>\n",
              "      <td>Free</td>\n",
              "      <td>0</td>\n",
              "      <td>Everyone</td>\n",
              "      <td>Medical</td>\n",
              "      <td>January 20, 2018</td>\n",
              "      <td>1.6</td>\n",
              "      <td>4.0 and up</td>\n",
              "    </tr>\n",
              "    <tr>\n",
              "      <th>7</th>\n",
              "      <td>D.C. Driving/Walking Tours</td>\n",
              "      <td>TRAVEL_AND_LOCAL</td>\n",
              "      <td>NaN</td>\n",
              "      <td>0</td>\n",
              "      <td>32M</td>\n",
              "      <td>50+</td>\n",
              "      <td>Paid</td>\n",
              "      <td>$4.99</td>\n",
              "      <td>Everyone</td>\n",
              "      <td>Travel &amp; Local</td>\n",
              "      <td>July 27, 2018</td>\n",
              "      <td>3.8.0</td>\n",
              "      <td>4.4 and up</td>\n",
              "    </tr>\n",
              "    <tr>\n",
              "      <th>8</th>\n",
              "      <td>Wi-Fi Master</td>\n",
              "      <td>TOOLS</td>\n",
              "      <td>4.5</td>\n",
              "      <td>3673</td>\n",
              "      <td>5.8M</td>\n",
              "      <td>500,000+</td>\n",
              "      <td>Free</td>\n",
              "      <td>0</td>\n",
              "      <td>Everyone</td>\n",
              "      <td>Tools</td>\n",
              "      <td>July 24, 2018</td>\n",
              "      <td>1.2.1</td>\n",
              "      <td>4.1 and up</td>\n",
              "    </tr>\n",
              "    <tr>\n",
              "      <th>9</th>\n",
              "      <td>HD Themes Toyota Cruiser 80</td>\n",
              "      <td>PERSONALIZATION</td>\n",
              "      <td>NaN</td>\n",
              "      <td>2</td>\n",
              "      <td>13M</td>\n",
              "      <td>100+</td>\n",
              "      <td>Free</td>\n",
              "      <td>0</td>\n",
              "      <td>Teen</td>\n",
              "      <td>Personalization</td>\n",
              "      <td>October 3, 2016</td>\n",
              "      <td>1.0</td>\n",
              "      <td>2.3.3 and up</td>\n",
              "    </tr>\n",
              "  </tbody>\n",
              "</table>\n",
              "</div>\n",
              "      <button class=\"colab-df-convert\" onclick=\"convertToInteractive('df-65c6cd64-926d-484d-9eb7-3a3b975f7430')\"\n",
              "              title=\"Convert this dataframe to an interactive table.\"\n",
              "              style=\"display:none;\">\n",
              "        \n",
              "  <svg xmlns=\"http://www.w3.org/2000/svg\" height=\"24px\"viewBox=\"0 0 24 24\"\n",
              "       width=\"24px\">\n",
              "    <path d=\"M0 0h24v24H0V0z\" fill=\"none\"/>\n",
              "    <path d=\"M18.56 5.44l.94 2.06.94-2.06 2.06-.94-2.06-.94-.94-2.06-.94 2.06-2.06.94zm-11 1L8.5 8.5l.94-2.06 2.06-.94-2.06-.94L8.5 2.5l-.94 2.06-2.06.94zm10 10l.94 2.06.94-2.06 2.06-.94-2.06-.94-.94-2.06-.94 2.06-2.06.94z\"/><path d=\"M17.41 7.96l-1.37-1.37c-.4-.4-.92-.59-1.43-.59-.52 0-1.04.2-1.43.59L10.3 9.45l-7.72 7.72c-.78.78-.78 2.05 0 2.83L4 21.41c.39.39.9.59 1.41.59.51 0 1.02-.2 1.41-.59l7.78-7.78 2.81-2.81c.8-.78.8-2.07 0-2.86zM5.41 20L4 18.59l7.72-7.72 1.47 1.35L5.41 20z\"/>\n",
              "  </svg>\n",
              "      </button>\n",
              "      \n",
              "  <style>\n",
              "    .colab-df-container {\n",
              "      display:flex;\n",
              "      flex-wrap:wrap;\n",
              "      gap: 12px;\n",
              "    }\n",
              "\n",
              "    .colab-df-convert {\n",
              "      background-color: #E8F0FE;\n",
              "      border: none;\n",
              "      border-radius: 50%;\n",
              "      cursor: pointer;\n",
              "      display: none;\n",
              "      fill: #1967D2;\n",
              "      height: 32px;\n",
              "      padding: 0 0 0 0;\n",
              "      width: 32px;\n",
              "    }\n",
              "\n",
              "    .colab-df-convert:hover {\n",
              "      background-color: #E2EBFA;\n",
              "      box-shadow: 0px 1px 2px rgba(60, 64, 67, 0.3), 0px 1px 3px 1px rgba(60, 64, 67, 0.15);\n",
              "      fill: #174EA6;\n",
              "    }\n",
              "\n",
              "    [theme=dark] .colab-df-convert {\n",
              "      background-color: #3B4455;\n",
              "      fill: #D2E3FC;\n",
              "    }\n",
              "\n",
              "    [theme=dark] .colab-df-convert:hover {\n",
              "      background-color: #434B5C;\n",
              "      box-shadow: 0px 1px 3px 1px rgba(0, 0, 0, 0.15);\n",
              "      filter: drop-shadow(0px 1px 2px rgba(0, 0, 0, 0.3));\n",
              "      fill: #FFFFFF;\n",
              "    }\n",
              "  </style>\n",
              "\n",
              "      <script>\n",
              "        const buttonEl =\n",
              "          document.querySelector('#df-65c6cd64-926d-484d-9eb7-3a3b975f7430 button.colab-df-convert');\n",
              "        buttonEl.style.display =\n",
              "          google.colab.kernel.accessAllowed ? 'block' : 'none';\n",
              "\n",
              "        async function convertToInteractive(key) {\n",
              "          const element = document.querySelector('#df-65c6cd64-926d-484d-9eb7-3a3b975f7430');\n",
              "          const dataTable =\n",
              "            await google.colab.kernel.invokeFunction('convertToInteractive',\n",
              "                                                     [key], {});\n",
              "          if (!dataTable) return;\n",
              "\n",
              "          const docLinkHtml = 'Like what you see? Visit the ' +\n",
              "            '<a target=\"_blank\" href=https://colab.research.google.com/notebooks/data_table.ipynb>data table notebook</a>'\n",
              "            + ' to learn more about interactive tables.';\n",
              "          element.innerHTML = '';\n",
              "          dataTable['output_type'] = 'display_data';\n",
              "          await google.colab.output.renderOutput(dataTable, element);\n",
              "          const docLink = document.createElement('div');\n",
              "          docLink.innerHTML = docLinkHtml;\n",
              "          element.appendChild(docLink);\n",
              "        }\n",
              "      </script>\n",
              "    </div>\n",
              "  </div>\n",
              "  "
            ]
          },
          "metadata": {},
          "execution_count": 194
        }
      ]
    },
    {
      "cell_type": "code",
      "source": [
        "def recommender_system(app):\n",
        "  data = apps.filter(\"Category == '\" + str(app.Category) + \"'\")\n",
        "  data = data.na.fill(value=0)\n",
        "\n",
        "  piped_data = data_pipeline.fit(data).transform(data)\n",
        "\n",
        "  from pyspark.ml.clustering import KMeans\n",
        "  from pyspark.ml.evaluation import ClusteringEvaluator\n",
        "  \n",
        "  evaluator = ClusteringEvaluator(predictionCol='prediction', featuresCol='features', \\\n",
        "                                  metricName='silhouette', distanceMeasure='squaredEuclidean')\n",
        "  for i in range(2,10):\n",
        "      try:\n",
        "        KMeans_algo=KMeans(featuresCol='features', k=i)\n",
        "        \n",
        "        KMeans_fit=KMeans_algo.fit(piped_data)\n",
        "        \n",
        "        output=KMeans_fit.transform(piped_data)\n",
        "      except:\n",
        "        continue\n",
        "      \n",
        "      \n",
        "      score=evaluator.evaluate(output)\n",
        "            \n",
        "      print(\"Silhouette Score:\",score)\n",
        "\n",
        "  return output\n",
        "\n",
        "clustred = recommender_system(test.iloc[2])\n",
        "clustred.show()"
      ],
      "metadata": {
        "colab": {
          "base_uri": "https://localhost:8080/"
        },
        "id": "bmx8gPAQkMmc",
        "outputId": "5ef612b3-a1a1-4f41-d088-0e1d82f30f0b"
      },
      "execution_count": null,
      "outputs": [
        {
          "output_type": "stream",
          "name": "stdout",
          "text": [
            "Silhouette Score: 0.9551464857816384\n",
            "Silhouette Score: 0.9240468653522671\n",
            "Silhouette Score: 0.9072921828120443\n",
            "Silhouette Score: 0.912388353100802\n",
            "Silhouette Score: 0.8816183592413354\n",
            "+--------------------+-----------+------+--------+---------+-----+--------------+--------------+----------------+--------------------+----------------------+--------------------+----------+\n",
            "|                 App|   Category|Rating| Reviews| Installs|Price|Content Rating|Installs Index|Installs Encoded|Content Rating Index|Content Rating Encoded|            features|prediction|\n",
            "+--------------------+-----------+------+--------+---------+-----+--------------+--------------+----------------+--------------------+----------------------+--------------------+----------+\n",
            "|TouchNote: Cards ...|PHOTOGRAPHY|    41|   19232|      low|    0|      Everyone|           1.0|   (3,[1],[1.0])|                 0.0|         (2,[0],[1.0])|(8,[0,1,3,6],[41....|         0|\n",
            "|Shutterfly: Free ...|PHOTOGRAPHY|    46|   98716|     high|    0|      Everyone|           0.0|   (3,[0],[1.0])|                 0.0|         (2,[0],[1.0])|(8,[0,1,3,5],[46....|         0|\n",
            "|FreePrints – Free...|PHOTOGRAPHY|    48|  109500|      low|    0|      Everyone|           1.0|   (3,[1],[1.0])|                 0.0|         (2,[0],[1.0])|(8,[0,1,3,6],[48....|         0|\n",
            "|Groovebook Photo ...|PHOTOGRAPHY|    40|   21159|   medium|    0|      Everyone|           2.0|   (3,[2],[1.0])|                 0.0|         (2,[0],[1.0])|(8,[0,1,3,7],[40....|         0|\n",
            "|Moony Lab - Print...|PHOTOGRAPHY|    47|    1320|   medium|    0|      Everyone|           2.0|   (3,[2],[1.0])|                 0.0|         (2,[0],[1.0])|(8,[0,1,3,7],[47....|         0|\n",
            "|LALALAB prints yo...|PHOTOGRAPHY|    47|   50424|      low|    0|      Everyone|           1.0|   (3,[1],[1.0])|                 0.0|         (2,[0],[1.0])|(8,[0,1,3,6],[47....|         0|\n",
            "|            Snapfish|PHOTOGRAPHY|    41|   32398|      low|    0|      Everyone|           1.0|   (3,[1],[1.0])|                 0.0|         (2,[0],[1.0])|(8,[0,1,3,6],[41....|         0|\n",
            "|       Google Photos|PHOTOGRAPHY|    45|10858556|very high|    0|      Everyone|           3.0|       (3,[],[])|                 0.0|         (2,[0],[1.0])|(8,[0,1,3],[45.0,...|         1|\n",
            "|     Motorola Camera|PHOTOGRAPHY|    36|  219745|     high|    0|      Everyone|           0.0|   (3,[0],[1.0])|                 0.0|         (2,[0],[1.0])|(8,[0,1,3,5],[36....|         7|\n",
            "|HD Camera - Best ...|PHOTOGRAPHY|    45|   38953|     high|    0|      Everyone|           0.0|   (3,[0],[1.0])|                 0.0|         (2,[0],[1.0])|(8,[0,1,3,5],[45....|         0|\n",
            "|Face Filter, Self...|PHOTOGRAPHY|    47|  142634|     high|    0|      Everyone|           0.0|   (3,[0],[1.0])|                 0.0|         (2,[0],[1.0])|(8,[0,1,3,5],[47....|         0|\n",
            "|LightX Photo Edit...|PHOTOGRAPHY|    47|  259450|     high|    0|      Everyone|           0.0|   (3,[0],[1.0])|                 0.0|         (2,[0],[1.0])|(8,[0,1,3,5],[47....|         7|\n",
            "|Sweet Snap - live...|PHOTOGRAPHY|    45|  123029|     high|    0|      Everyone|           0.0|   (3,[0],[1.0])|                 0.0|         (2,[0],[1.0])|(8,[0,1,3,5],[45....|         0|\n",
            "|Adobe Photoshop E...|PHOTOGRAPHY|    42|  914804|     high|    0|      Everyone|           0.0|   (3,[0],[1.0])|                 0.0|         (2,[0],[1.0])|(8,[0,1,3,5],[42....|         5|\n",
            "|HD Camera - Quick...|PHOTOGRAPHY|    45|   21841|      low|    0|      Everyone|           1.0|   (3,[1],[1.0])|                 0.0|         (2,[0],[1.0])|(8,[0,1,3,6],[45....|         0|\n",
            "|B612 - Beauty & F...|PHOTOGRAPHY|    44| 5282578|very high|    0|      Everyone|           3.0|       (3,[],[])|                 0.0|         (2,[0],[1.0])|(8,[0,1,3],[44.0,...|         8|\n",
            "|Waterfall Photo F...|PHOTOGRAPHY|    45|   10349|      low|    0|      Everyone|           1.0|   (3,[1],[1.0])|                 0.0|         (2,[0],[1.0])|(8,[0,1,3,6],[45....|         0|\n",
            "|         Photo frame|PHOTOGRAPHY|    45|     859|   medium|    0|      Everyone|           2.0|   (3,[2],[1.0])|                 0.0|         (2,[0],[1.0])|(8,[0,1,3,7],[45....|         0|\n",
            "|            Huji Cam|PHOTOGRAPHY|    44|   40289|     high|    0|      Everyone|           0.0|   (3,[0],[1.0])|                 0.0|         (2,[0],[1.0])|(8,[0,1,3,5],[44....|         0|\n",
            "|       Unicorn Photo|PHOTOGRAPHY|    37|    3362|      low|    0|      Everyone|           1.0|   (3,[1],[1.0])|                 0.0|         (2,[0],[1.0])|(8,[0,1,3,6],[37....|         0|\n",
            "+--------------------+-----------+------+--------+---------+-----+--------------+--------------+----------------+--------------------+----------------------+--------------------+----------+\n",
            "only showing top 20 rows\n",
            "\n"
          ]
        }
      ]
    },
    {
      "cell_type": "code",
      "source": [
        "clustred.filter(\"App == '\" + test.iloc[2].App +\"'\").show()"
      ],
      "metadata": {
        "colab": {
          "base_uri": "https://localhost:8080/"
        },
        "id": "vWX3XHxmr_7H",
        "outputId": "e211f73f-8732-471e-ceaf-47bbf8c8139e"
      },
      "execution_count": null,
      "outputs": [
        {
          "output_type": "stream",
          "name": "stdout",
          "text": [
            "+---------+-----------+------+-------+--------+-----+--------------+--------------+----------------+--------------------+----------------------+--------------------+----------+\n",
            "|      App|   Category|Rating|Reviews|Installs|Price|Content Rating|Installs Index|Installs Encoded|Content Rating Index|Content Rating Encoded|            features|prediction|\n",
            "+---------+-----------+------+-------+--------+-----+--------------+--------------+----------------+--------------------+----------------------+--------------------+----------+\n",
            "|HD Camera|PHOTOGRAPHY|    43|  49680|    high|    0|      Everyone|           0.0|   (3,[0],[1.0])|                 0.0|         (2,[0],[1.0])|(8,[0,1,3,5],[43....|         0|\n",
            "+---------+-----------+------+-------+--------+-----+--------------+--------------+----------------+--------------------+----------------------+--------------------+----------+\n",
            "\n"
          ]
        }
      ]
    },
    {
      "cell_type": "markdown",
      "source": [
        "prediction is cluster 0"
      ],
      "metadata": {
        "id": "-KU1lzfLs_5B"
      }
    },
    {
      "cell_type": "code",
      "source": [
        "print(\"clusters:\")\n",
        "clustred.groupBy(\"prediction\").count().show()\n",
        "print(\"Recommendations:\")\n",
        "clustred.filter(\"prediction == 0\").sample(0.1).show()"
      ],
      "metadata": {
        "colab": {
          "base_uri": "https://localhost:8080/"
        },
        "id": "RNEj6n_Uom1h",
        "outputId": "b9ef3288-4605-4eca-9967-0c1b36d73dc3"
      },
      "execution_count": null,
      "outputs": [
        {
          "output_type": "stream",
          "name": "stdout",
          "text": [
            "clusters:\n",
            "+----------+-----+\n",
            "|prediction|count|\n",
            "+----------+-----+\n",
            "|         1|    4|\n",
            "|         6|   15|\n",
            "|         3|    5|\n",
            "|         5|   28|\n",
            "|         4|    3|\n",
            "|         8|    7|\n",
            "|         7|   37|\n",
            "|         2|   10|\n",
            "|         0|  226|\n",
            "+----------+-----+\n",
            "\n",
            "Recommendations:\n",
            "+--------------------+-----------+------+-------+--------+-----+--------------+--------------+----------------+--------------------+----------------------+--------------------+----------+\n",
            "|                 App|   Category|Rating|Reviews|Installs|Price|Content Rating|Installs Index|Installs Encoded|Content Rating Index|Content Rating Encoded|            features|prediction|\n",
            "+--------------------+-----------+------+-------+--------+-----+--------------+--------------+----------------+--------------------+----------------------+--------------------+----------+\n",
            "|Moony Lab - Print...|PHOTOGRAPHY|    47|   1320|  medium|    0|      Everyone|           2.0|   (3,[2],[1.0])|                 0.0|         (2,[0],[1.0])|(8,[0,1,3,7],[47....|         0|\n",
            "|Sweet Snap - live...|PHOTOGRAPHY|    45| 123029|    high|    0|      Everyone|           0.0|   (3,[0],[1.0])|                 0.0|         (2,[0],[1.0])|(8,[0,1,3,5],[45....|         0|\n",
            "|         Photo frame|PHOTOGRAPHY|    45|    859|  medium|    0|      Everyone|           2.0|   (3,[2],[1.0])|                 0.0|         (2,[0],[1.0])|(8,[0,1,3,7],[45....|         0|\n",
            "|DSLR Camera Hd Ul...|PHOTOGRAPHY|    42|   4410|     low|    0|      Everyone|           1.0|   (3,[1],[1.0])|                 0.0|         (2,[0],[1.0])|(8,[0,1,3,6],[42....|         0|\n",
            "|         Open Camera|PHOTOGRAPHY|    43| 116880|    high|    0|      Everyone|           0.0|   (3,[0],[1.0])|                 0.0|         (2,[0],[1.0])|(8,[0,1,3,5],[43....|         0|\n",
            "|Muzy - Share phot...|PHOTOGRAPHY|    44|  70189|    high|    0|          Teen|           0.0|   (3,[0],[1.0])|                 1.0|         (2,[1],[1.0])|(8,[0,1,4,5],[44....|         0|\n",
            "|HD Camera Pro for...|PHOTOGRAPHY|    41|  49211|     low|    0|      Everyone|           1.0|   (3,[1],[1.0])|                 0.0|         (2,[0],[1.0])|(8,[0,1,3,6],[41....|         0|\n",
            "|GoPro (formerly C...|PHOTOGRAPHY|    40| 157506|    high|    0|      Everyone|           0.0|   (3,[0],[1.0])|                 0.0|         (2,[0],[1.0])|(8,[0,1,3,5],[40....|         0|\n",
            "|  F-Stop Gallery Pro|PHOTOGRAPHY|    44|   1302|     low|    0|      Everyone|           1.0|   (3,[1],[1.0])|                 0.0|         (2,[0],[1.0])|(8,[0,1,3,6],[44....|         0|\n",
            "|     A Better Camera|PHOTOGRAPHY|    41|  76484|    high|    0|      Everyone|           0.0|   (3,[0],[1.0])|                 0.0|         (2,[0],[1.0])|(8,[0,1,3,5],[41....|         0|\n",
            "|              AEE AP|PHOTOGRAPHY|     0|      4|     low|    0|      Everyone|           1.0|   (3,[1],[1.0])|                 0.0|         (2,[0],[1.0])|(8,[1,3,6],[4.0,1...|         0|\n",
            "|    Photo BG Changer|PHOTOGRAPHY|    38|     11|     low|    0|      Everyone|           1.0|   (3,[1],[1.0])|                 0.0|         (2,[0],[1.0])|(8,[0,1,3,6],[38....|         0|\n",
            "|Change photo back...|PHOTOGRAPHY|    38|  28660|    high|    0|      Everyone|           0.0|   (3,[0],[1.0])|                 0.0|         (2,[0],[1.0])|(8,[0,1,3,5],[38....|         0|\n",
            "|Photo Editor - BP...|PHOTOGRAPHY|    45|     42|     low|    0|      Everyone|           1.0|   (3,[1],[1.0])|                 0.0|         (2,[0],[1.0])|(8,[0,1,3,6],[45....|         0|\n",
            "|BL 1-Click Camera...|PHOTOGRAPHY|    35|     52|     low|    0|      Everyone|           1.0|   (3,[1],[1.0])|                 0.0|         (2,[0],[1.0])|(8,[0,1,3,6],[35....|         0|\n",
            "|BlitzWolf Shutter...|PHOTOGRAPHY|    29|    333|  medium|    0|      Everyone|           2.0|   (3,[2],[1.0])|                 0.0|         (2,[0],[1.0])|(8,[0,1,3,7],[29....|         0|\n",
            "|             Hypocam|PHOTOGRAPHY|    45|  12572|     low|    0|      Everyone|           1.0|   (3,[1],[1.0])|                 0.0|         (2,[0],[1.0])|(8,[0,1,3,6],[45....|         0|\n",
            "|CB Hair Png - New...|PHOTOGRAPHY|    46|     26|     low|    0|      Everyone|           1.0|   (3,[1],[1.0])|                 0.0|         (2,[0],[1.0])|(8,[0,1,3,6],[46....|         0|\n",
            "|Camera V7 24 Mega...|PHOTOGRAPHY|    40|   2480|  medium|    0|      Everyone|           2.0|   (3,[2],[1.0])|                 0.0|         (2,[0],[1.0])|(8,[0,1,3,7],[40....|         0|\n",
            "|Bokeh (Background...|PHOTOGRAPHY|    40|  50109|    high|    0|      Everyone|           0.0|   (3,[0],[1.0])|                 0.0|         (2,[0],[1.0])|(8,[0,1,3,5],[40....|         0|\n",
            "+--------------------+-----------+------+-------+--------+-----+--------------+--------------+----------------+--------------------+----------------------+--------------------+----------+\n",
            "only showing top 20 rows\n",
            "\n"
          ]
        }
      ]
    },
    {
      "cell_type": "code",
      "source": [
        "spark.sql(\"SELECT * FROM apps WHERE App='Telegram'\").show()"
      ],
      "metadata": {
        "colab": {
          "base_uri": "https://localhost:8080/"
        },
        "id": "5GDIjRyt_Sqs",
        "outputId": "4b4b1019-4f25-43a1-8c64-c51cca0e332a"
      },
      "execution_count": null,
      "outputs": [
        {
          "output_type": "stream",
          "name": "stdout",
          "text": [
            "+--------+-------------+------+-------+------------------+------------+----+-----+--------------+-------------+-------------+------------------+------------------+\n",
            "|     App|     Category|Rating|Reviews|              Size|    Installs|Type|Price|Content Rating|       Genres| Last Updated|       Current Ver|       Android Ver|\n",
            "+--------+-------------+------+-------+------------------+------------+----+-----+--------------+-------------+-------------+------------------+------------------+\n",
            "|Telegram|COMMUNICATION|   4.4|3128250|Varies with device|100,000,000+|Free|    0|    Mature 17+|Communication|July 27, 2018|Varies with device|Varies with device|\n",
            "|Telegram|COMMUNICATION|   4.4|3128509|Varies with device|100,000,000+|Free|    0|    Mature 17+|Communication|July 27, 2018|Varies with device|Varies with device|\n",
            "|Telegram|COMMUNICATION|   4.4|3128611|Varies with device|100,000,000+|Free|    0|    Mature 17+|Communication|July 27, 2018|Varies with device|Varies with device|\n",
            "+--------+-------------+------+-------+------------------+------------+----+-----+--------------+-------------+-------------+------------------+------------------+\n",
            "\n"
          ]
        }
      ]
    },
    {
      "cell_type": "code",
      "source": [
        "spark.sql(\"SELECT * FROM apps WHERE Category='COMMUNICATION' AND Installs='100,000,000+' AND Rating > 4.3\").show()"
      ],
      "metadata": {
        "colab": {
          "base_uri": "https://localhost:8080/"
        },
        "id": "HshwaNeW_xX_",
        "outputId": "eb9b7212-4946-49ef-f897-379d56dc09bf"
      },
      "execution_count": null,
      "outputs": [
        {
          "output_type": "stream",
          "name": "stdout",
          "text": [
            "+--------------------+-------------+------+-------+------------------+------------+----+-----+--------------+-------------+--------------+------------------+------------------+\n",
            "|                 App|     Category|Rating|Reviews|              Size|    Installs|Type|Price|Content Rating|       Genres|  Last Updated|       Current Ver|       Android Ver|\n",
            "+--------------------+-------------+------+-------+------------------+------------+----+-----+--------------+-------------+--------------+------------------+------------------+\n",
            "|Messenger Lite: F...|COMMUNICATION|   4.4|1429035|Varies with device|100,000,000+|Free|    0|      Everyone|Communication| July 25, 2018|      37.0.0.7.163|        2.3 and up|\n",
            "|Firefox Browser f...|COMMUNICATION|   4.4|3075028|Varies with device|100,000,000+|Free|    0|      Everyone|Communication| July 10, 2018|Varies with device|Varies with device|\n",
            "|Opera Mini - fast...|COMMUNICATION|   4.5|5149854|Varies with device|100,000,000+|Free|    0|      Everyone|Communication| July 19, 2018|Varies with device|Varies with device|\n",
            "|Opera Browser: Fa...|COMMUNICATION|   4.4|2473509|Varies with device|100,000,000+|Free|    0|      Everyone|Communication| July 31, 2018|  47.1.2249.129326|Varies with device|\n",
            "|UC Browser Mini -...|COMMUNICATION|   4.4|3648120|              3.3M|100,000,000+|Free|    0|          Teen|Communication| July 18, 2018|            11.4.0|        4.0 and up|\n",
            "|            Telegram|COMMUNICATION|   4.4|3128250|Varies with device|100,000,000+|Free|    0|    Mature 17+|Communication| July 27, 2018|Varies with device|Varies with device|\n",
            "|            Telegram|COMMUNICATION|   4.4|3128509|Varies with device|100,000,000+|Free|    0|    Mature 17+|Communication| July 27, 2018|Varies with device|Varies with device|\n",
            "|GO SMS Pro - Mess...|COMMUNICATION|   4.4|2876500|               24M|100,000,000+|Free|    0|      Everyone|Communication|August 1, 2018|              7.73|        4.0 and up|\n",
            "|Firefox Browser f...|COMMUNICATION|   4.4|3075118|Varies with device|100,000,000+|Free|    0|      Everyone|Communication| July 10, 2018|Varies with device|Varies with device|\n",
            "|Opera Browser: Fa...|COMMUNICATION|   4.4|2473693|Varies with device|100,000,000+|Free|    0|      Everyone|Communication| July 31, 2018|  47.1.2249.129326|Varies with device|\n",
            "|Opera Mini - fast...|COMMUNICATION|   4.5|5150471|Varies with device|100,000,000+|Free|    0|      Everyone|Communication| July 19, 2018|Varies with device|Varies with device|\n",
            "|UC Browser Mini -...|COMMUNICATION|   4.4|3648480|              3.3M|100,000,000+|Free|    0|          Teen|Communication| July 18, 2018|            11.4.0|        4.0 and up|\n",
            "|Truecaller: Calle...|COMMUNICATION|   4.5|7820209|Varies with device|100,000,000+|Free|    0|      Everyone|Communication|August 1, 2018|Varies with device|Varies with device|\n",
            "|Firefox Browser f...|COMMUNICATION|   4.4|3075096|Varies with device|100,000,000+|Free|    0|      Everyone|Communication| July 10, 2018|Varies with device|Varies with device|\n",
            "|Messenger Lite: F...|COMMUNICATION|   4.4|1429038|Varies with device|100,000,000+|Free|    0|      Everyone|Communication| July 25, 2018|      37.0.0.7.163|        2.3 and up|\n",
            "|Opera Mini - fast...|COMMUNICATION|   4.5|5150801|Varies with device|100,000,000+|Free|    0|      Everyone|Communication| July 19, 2018|Varies with device|Varies with device|\n",
            "|Opera Browser: Fa...|COMMUNICATION|   4.4|2473795|Varies with device|100,000,000+|Free|    0|      Everyone|Communication| July 31, 2018|  47.1.2249.129326|Varies with device|\n",
            "|            Telegram|COMMUNICATION|   4.4|3128611|Varies with device|100,000,000+|Free|    0|    Mature 17+|Communication| July 27, 2018|Varies with device|Varies with device|\n",
            "|Truecaller: Calle...|COMMUNICATION|   4.5|7820775|Varies with device|100,000,000+|Free|    0|      Everyone|Communication|August 1, 2018|Varies with device|Varies with device|\n",
            "|UC Browser Mini -...|COMMUNICATION|   4.4|3648765|              3.3M|100,000,000+|Free|    0|          Teen|Communication| July 18, 2018|            11.4.0|        4.0 and up|\n",
            "+--------------------+-------------+------+-------+------------------+------------+----+-----+--------------+-------------+--------------+------------------+------------------+\n",
            "\n"
          ]
        }
      ]
    }
  ]
}